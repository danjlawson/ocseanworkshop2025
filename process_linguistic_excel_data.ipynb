{
 "cells": [
  {
   "cell_type": "markdown",
   "id": "7723077e-82b6-460c-a350-872509650bc8",
   "metadata": {},
   "source": [
    "# Processing the Linguistic data\n",
    "\n",
    "This uses the \"OCSEAN_language_collection_overview_April_25.xlsx\" data and CleanedData folder provided by Monika.\n"
   ]
  },
  {
   "cell_type": "markdown",
   "id": "c8c0e3ce-38a0-4a97-a5d6-6921c298f967",
   "metadata": {},
   "source": [
    "## Preamble\n",
    "\n",
    "We import some useful libraries that we will use further down."
   ]
  },
  {
   "cell_type": "code",
   "execution_count": 177,
   "id": "a3d86269-e247-4607-b544-249dbb48ea97",
   "metadata": {},
   "outputs": [],
   "source": [
    "import pandas as pd # Pandas is the most common \"data frame\", i.e. Excel-sheet reader\n",
    "import os # os = operating system; we use this for accessing files on the computer"
   ]
  },
  {
   "cell_type": "code",
   "execution_count": 178,
   "id": "da342f68-200a-4037-ad31-6a6275f8b3f1",
   "metadata": {},
   "outputs": [
    {
     "data": {
      "text/plain": [
       "'/Users/madjl/GoogleDrive/University/OCSEAN-2025/RESEARCH'"
      ]
     },
     "execution_count": 178,
     "metadata": {},
     "output_type": "execute_result"
    }
   ],
   "source": [
    "os.getcwd() # Which directory are we in? It should contain the file and folder described above inside it."
   ]
  },
  {
   "cell_type": "markdown",
   "id": "955db02a-0ca7-461f-9719-63b672abd470",
   "metadata": {},
   "source": [
    "## Reading and checking data\n",
    "\n",
    "We will read the main excel overview file using pandas. It is a simple call, but to make life easier we will choose not to treat missing (empty) cells specially; they are just an empty string. This is a bad idea for numerical values but can be useful for strings."
   ]
  },
  {
   "cell_type": "code",
   "execution_count": 224,
   "id": "dc037537-ac3c-41dd-8e7b-cfa6a223e8ce",
   "metadata": {},
   "outputs": [],
   "source": [
    "collectionsheet=pd.read_excel(\"OCSEAN_language_collection_overview_April_25.xlsx\",na_filter=False)  \n",
    "# We don't detect NA values, and instead treat them as they are (empty strings)"
   ]
  },
  {
   "cell_type": "code",
   "execution_count": 225,
   "id": "a040b2a1-f907-4799-9f59-ed99b5b786be",
   "metadata": {},
   "outputs": [
    {
     "data": {
      "text/html": [
       "<div>\n",
       "<style scoped>\n",
       "    .dataframe tbody tr th:only-of-type {\n",
       "        vertical-align: middle;\n",
       "    }\n",
       "\n",
       "    .dataframe tbody tr th {\n",
       "        vertical-align: top;\n",
       "    }\n",
       "\n",
       "    .dataframe thead th {\n",
       "        text-align: right;\n",
       "    }\n",
       "</style>\n",
       "<table border=\"1\" class=\"dataframe\">\n",
       "  <thead>\n",
       "    <tr style=\"text-align: right;\">\n",
       "      <th></th>\n",
       "      <th>Language_BasedOnMasterSheet</th>\n",
       "      <th>ISO code (from Original_FileName)</th>\n",
       "      <th>COUNTRY</th>\n",
       "      <th>LocalWordsPresent</th>\n",
       "      <th>QC_done</th>\n",
       "      <th>AddedToTheUnitedLanguagesMasterFile</th>\n",
       "      <th>Comment</th>\n",
       "      <th>Separator</th>\n",
       "      <th>Mismatches_Eng</th>\n",
       "      <th>Mismatches_IndoOrTaga</th>\n",
       "      <th>Original_FileName</th>\n",
       "      <th>QC_FileName</th>\n",
       "      <th>Google Map Coordinate</th>\n",
       "    </tr>\n",
       "  </thead>\n",
       "  <tbody>\n",
       "    <tr>\n",
       "      <th>0</th>\n",
       "      <td>Abui Bunggeta</td>\n",
       "      <td>ABZ</td>\n",
       "      <td>Indonesia</td>\n",
       "      <td>604</td>\n",
       "      <td>Yes</td>\n",
       "      <td>Yes</td>\n",
       "      <td>Some English and or Indonesian words in this l...</td>\n",
       "      <td>, and ; and ~ (?). Only used , and ;</td>\n",
       "      <td>41</td>\n",
       "      <td>87</td>\n",
       "      <td>OCSEAN-ABZ_20240605-BUNGGETA_WORDLIST.xlsx</td>\n",
       "      <td>OCSEAN-ABZ_20240605-BUNGGETA_WORDLIST_PostQC.xlsx</td>\n",
       "      <td></td>\n",
       "    </tr>\n",
       "    <tr>\n",
       "      <th>1</th>\n",
       "      <td>Abui Kilakawada</td>\n",
       "      <td>ABZ</td>\n",
       "      <td>Indonesia</td>\n",
       "      <td>604</td>\n",
       "      <td>Yes</td>\n",
       "      <td>Yes</td>\n",
       "      <td>English and English Elicitation notes complete...</td>\n",
       "      <td>, and ; and ~ (?). Only used , and ;</td>\n",
       "      <td>41</td>\n",
       "      <td>87</td>\n",
       "      <td>OCSEAN-ABZ_20240606-KILAKAWADA_WORDLIST.xlsx</td>\n",
       "      <td>OCSEAN-ABZ_20240606-KILAKAWADA_WORDLIST_PostQC...</td>\n",
       "      <td></td>\n",
       "    </tr>\n",
       "    <tr>\n",
       "      <th>2</th>\n",
       "      <td>Abui Mobyetang</td>\n",
       "      <td>ABZ</td>\n",
       "      <td>Indonesia</td>\n",
       "      <td>602</td>\n",
       "      <td>Yes</td>\n",
       "      <td>Yes</td>\n",
       "      <td>English Elicitation = English actually. Some E...</td>\n",
       "      <td>, and ; and ~ (?). Only used , and ;</td>\n",
       "      <td>41</td>\n",
       "      <td>87</td>\n",
       "      <td>OCSEAN-ABZ_20240610-MOBYETANG_WORDLIST.xlsx</td>\n",
       "      <td>OCSEAN-ABZ_20240610-MOBYETANG_WORDLIST_PostQC....</td>\n",
       "      <td></td>\n",
       "    </tr>\n",
       "    <tr>\n",
       "      <th>3</th>\n",
       "      <td>Abui Pelman</td>\n",
       "      <td>ABZ</td>\n",
       "      <td>Indonesia</td>\n",
       "      <td>602</td>\n",
       "      <td>Yes</td>\n",
       "      <td>Yes</td>\n",
       "      <td>English Elicitation = English actually. Some E...</td>\n",
       "      <td>, and ; and ~ (?). Only used , and ;</td>\n",
       "      <td>41</td>\n",
       "      <td>87</td>\n",
       "      <td>OCSEAN-ABZ_20240610-PELMAN_WORDLIST.xlsx</td>\n",
       "      <td>OCSEAN-ABZ_20240610-PELMAN_WORDLIST_PostQC.xlsx</td>\n",
       "      <td></td>\n",
       "    </tr>\n",
       "    <tr>\n",
       "      <th>4</th>\n",
       "      <td>Abui Takalelang</td>\n",
       "      <td>ABZ</td>\n",
       "      <td>Indonesia</td>\n",
       "      <td>293</td>\n",
       "      <td>NO</td>\n",
       "      <td>NO</td>\n",
       "      <td>There is no orthography. Only few hundred IPAs...</td>\n",
       "      <td></td>\n",
       "      <td>0</td>\n",
       "      <td>0</td>\n",
       "      <td>OCSEAN-ABZ_20220715-TAKALELANG_WORDLIST.xlsx</td>\n",
       "      <td>NA</td>\n",
       "      <td></td>\n",
       "    </tr>\n",
       "  </tbody>\n",
       "</table>\n",
       "</div>"
      ],
      "text/plain": [
       "  Language_BasedOnMasterSheet ISO code (from Original_FileName)    COUNTRY  \\\n",
       "0               Abui Bunggeta                               ABZ  Indonesia   \n",
       "1             Abui Kilakawada                               ABZ  Indonesia   \n",
       "2              Abui Mobyetang                               ABZ  Indonesia   \n",
       "3                 Abui Pelman                               ABZ  Indonesia   \n",
       "4             Abui Takalelang                               ABZ  Indonesia   \n",
       "\n",
       "  LocalWordsPresent QC_done AddedToTheUnitedLanguagesMasterFile  \\\n",
       "0               604     Yes                                 Yes   \n",
       "1               604     Yes                                 Yes   \n",
       "2               602     Yes                                 Yes   \n",
       "3               602     Yes                                 Yes   \n",
       "4               293      NO                                  NO   \n",
       "\n",
       "                                             Comment  \\\n",
       "0  Some English and or Indonesian words in this l...   \n",
       "1  English and English Elicitation notes complete...   \n",
       "2  English Elicitation = English actually. Some E...   \n",
       "3  English Elicitation = English actually. Some E...   \n",
       "4  There is no orthography. Only few hundred IPAs...   \n",
       "\n",
       "                              Separator Mismatches_Eng Mismatches_IndoOrTaga  \\\n",
       "0  , and ; and ~ (?). Only used , and ;             41                    87   \n",
       "1  , and ; and ~ (?). Only used , and ;             41                    87   \n",
       "2  , and ; and ~ (?). Only used , and ;             41                    87   \n",
       "3  , and ; and ~ (?). Only used , and ;             41                    87   \n",
       "4                                                    0                     0   \n",
       "\n",
       "                              Original_FileName  \\\n",
       "0    OCSEAN-ABZ_20240605-BUNGGETA_WORDLIST.xlsx   \n",
       "1  OCSEAN-ABZ_20240606-KILAKAWADA_WORDLIST.xlsx   \n",
       "2   OCSEAN-ABZ_20240610-MOBYETANG_WORDLIST.xlsx   \n",
       "3      OCSEAN-ABZ_20240610-PELMAN_WORDLIST.xlsx   \n",
       "4  OCSEAN-ABZ_20220715-TAKALELANG_WORDLIST.xlsx   \n",
       "\n",
       "                                         QC_FileName Google Map Coordinate  \n",
       "0  OCSEAN-ABZ_20240605-BUNGGETA_WORDLIST_PostQC.xlsx                        \n",
       "1  OCSEAN-ABZ_20240606-KILAKAWADA_WORDLIST_PostQC...                        \n",
       "2  OCSEAN-ABZ_20240610-MOBYETANG_WORDLIST_PostQC....                        \n",
       "3    OCSEAN-ABZ_20240610-PELMAN_WORDLIST_PostQC.xlsx                        \n",
       "4                                                 NA                        "
      ]
     },
     "execution_count": 225,
     "metadata": {},
     "output_type": "execute_result"
    }
   ],
   "source": [
    "collectionsheet.head() # Look at the top few values"
   ]
  },
  {
   "cell_type": "markdown",
   "id": "1df05313-4996-45e7-9c90-c3b32f9d2243",
   "metadata": {},
   "source": [
    "Our first serious code. Here we are going to add a new column called \"Used\" that is 'True' if we find a QC'd file, or 'False' if we don't.\n",
    "\n",
    "Note that if you uncomment the \"print\" statements, you will get a long description of which files exist. If we'd kept NA values, we'd have to treat them specially here."
   ]
  },
  {
   "cell_type": "code",
   "execution_count": 252,
   "id": "8b5cb0c6-2c0b-43ef-920e-d6df014af96d",
   "metadata": {},
   "outputs": [],
   "source": [
    "collectionsheet[\"Used\"] = False\n",
    "for id in collectionsheet.index:\n",
    "    f=collectionsheet.at[id,\"QC_FileName\"]\n",
    "    fullfile=os.path.join(\"CleanedFiles\",f)\n",
    "    if(os.path.isfile(fullfile)):\n",
    "#        print(id,\":\", fullfile,\"exists\")\n",
    "        collectionsheet.at[id, \"Used\"]=True\n",
    "#    else:\n",
    "#        print(id,\":\", fullfile,\"missing\")"
   ]
  },
  {
   "cell_type": "code",
   "execution_count": 253,
   "id": "536e4552-e02e-4154-8422-2ed8417be4df",
   "metadata": {},
   "outputs": [
    {
     "data": {
      "text/plain": [
       "COUNTRY\n",
       "the Phillipines     73\n",
       "Indonesia           48\n",
       "Papua New Guinea     1\n",
       "Name: count, dtype: int64"
      ]
     },
     "execution_count": 253,
     "metadata": {},
     "output_type": "execute_result"
    }
   ],
   "source": [
    "# How many from each country?\n",
    "collectionsheet[\"COUNTRY\"].value_counts()"
   ]
  },
  {
   "cell_type": "markdown",
   "id": "e1b46d28-62d5-4bb6-9248-e4bffa71203a",
   "metadata": {},
   "source": [
    "Now we do some checking. How many values do we get to Use, and how many are missing?"
   ]
  },
  {
   "cell_type": "code",
   "execution_count": 254,
   "id": "b450d4ab-da4e-47db-96ac-ce2d5b816229",
   "metadata": {},
   "outputs": [
    {
     "data": {
      "text/plain": [
       "Used\n",
       "True     74\n",
       "False    48\n",
       "Name: count, dtype: int64"
      ]
     },
     "execution_count": 254,
     "metadata": {},
     "output_type": "execute_result"
    }
   ],
   "source": [
    "collectionsheet[\"Used\"].value_counts()"
   ]
  },
  {
   "cell_type": "code",
   "execution_count": 255,
   "id": "502e1076-fbdd-4819-83d1-78df8caa1640",
   "metadata": {},
   "outputs": [
    {
     "data": {
      "text/plain": [
       "QC_FileName\n",
       "False    122\n",
       "Name: count, dtype: int64"
      ]
     },
     "execution_count": 255,
     "metadata": {},
     "output_type": "execute_result"
    }
   ],
   "source": [
    "# If we had kept na values, we could count them like this\n",
    "pd.isna(collectionsheet[\"QC_FileName\"]).value_counts()"
   ]
  },
  {
   "cell_type": "code",
   "execution_count": 256,
   "id": "acaf0da9-daba-428c-9ebb-19e7b32577ee",
   "metadata": {},
   "outputs": [
    {
     "data": {
      "text/html": [
       "<div>\n",
       "<style scoped>\n",
       "    .dataframe tbody tr th:only-of-type {\n",
       "        vertical-align: middle;\n",
       "    }\n",
       "\n",
       "    .dataframe tbody tr th {\n",
       "        vertical-align: top;\n",
       "    }\n",
       "\n",
       "    .dataframe thead th {\n",
       "        text-align: right;\n",
       "    }\n",
       "</style>\n",
       "<table border=\"1\" class=\"dataframe\">\n",
       "  <thead>\n",
       "    <tr style=\"text-align: right;\">\n",
       "      <th></th>\n",
       "      <th>Language_BasedOnMasterSheet</th>\n",
       "      <th>ISO code (from Original_FileName)</th>\n",
       "      <th>COUNTRY</th>\n",
       "      <th>LocalWordsPresent</th>\n",
       "      <th>QC_done</th>\n",
       "      <th>AddedToTheUnitedLanguagesMasterFile</th>\n",
       "      <th>Comment</th>\n",
       "      <th>Separator</th>\n",
       "      <th>Mismatches_Eng</th>\n",
       "      <th>Mismatches_IndoOrTaga</th>\n",
       "      <th>Original_FileName</th>\n",
       "      <th>QC_FileName</th>\n",
       "      <th>Google Map Coordinate</th>\n",
       "      <th>Used</th>\n",
       "    </tr>\n",
       "  </thead>\n",
       "  <tbody>\n",
       "    <tr>\n",
       "      <th>4</th>\n",
       "      <td>Abui Takalelang</td>\n",
       "      <td>ABZ</td>\n",
       "      <td>Indonesia</td>\n",
       "      <td>293</td>\n",
       "      <td>NO</td>\n",
       "      <td>NO</td>\n",
       "      <td>There is no orthography. Only few hundred IPAs...</td>\n",
       "      <td></td>\n",
       "      <td>0</td>\n",
       "      <td>0</td>\n",
       "      <td>OCSEAN-ABZ_20220715-TAKALELANG_WORDLIST.xlsx</td>\n",
       "      <td>NA</td>\n",
       "      <td></td>\n",
       "      <td>False</td>\n",
       "    </tr>\n",
       "    <tr>\n",
       "      <th>5</th>\n",
       "      <td>Abui Takalelang</td>\n",
       "      <td>NA</td>\n",
       "      <td>Indonesia</td>\n",
       "      <td>NA</td>\n",
       "      <td>NA</td>\n",
       "      <td>NA</td>\n",
       "      <td>NA</td>\n",
       "      <td>NA</td>\n",
       "      <td>NA</td>\n",
       "      <td>NA</td>\n",
       "      <td>NA</td>\n",
       "      <td>NA</td>\n",
       "      <td></td>\n",
       "      <td>False</td>\n",
       "    </tr>\n",
       "    <tr>\n",
       "      <th>6</th>\n",
       "      <td>Abui Takalelang</td>\n",
       "      <td>NA</td>\n",
       "      <td>Indonesia</td>\n",
       "      <td>NA</td>\n",
       "      <td>NA</td>\n",
       "      <td>NA</td>\n",
       "      <td>NA</td>\n",
       "      <td>NA</td>\n",
       "      <td>NA</td>\n",
       "      <td>NA</td>\n",
       "      <td>NA</td>\n",
       "      <td>NA</td>\n",
       "      <td></td>\n",
       "      <td>False</td>\n",
       "    </tr>\n",
       "    <tr>\n",
       "      <th>8</th>\n",
       "      <td>Adang</td>\n",
       "      <td>NA</td>\n",
       "      <td>Indonesia</td>\n",
       "      <td>NA</td>\n",
       "      <td>NA</td>\n",
       "      <td>NA</td>\n",
       "      <td>NA</td>\n",
       "      <td>NA</td>\n",
       "      <td>NA</td>\n",
       "      <td>NA</td>\n",
       "      <td>NA</td>\n",
       "      <td>NA</td>\n",
       "      <td></td>\n",
       "      <td>False</td>\n",
       "    </tr>\n",
       "    <tr>\n",
       "      <th>9</th>\n",
       "      <td>Agta</td>\n",
       "      <td>AGT</td>\n",
       "      <td>the Phillipines</td>\n",
       "      <td>952</td>\n",
       "      <td>Yes, but not ideal</td>\n",
       "      <td>Yes</td>\n",
       "      <td>There seems to be an issue with the removal of...</td>\n",
       "      <td>, and /</td>\n",
       "      <td>13</td>\n",
       "      <td>65</td>\n",
       "      <td>OCSEAN-AGT_20240124-WORDLIST_1TO1228.xlsx</td>\n",
       "      <td>OCSEAN-AGT_20240124-WORDLIST_1TO1228_PostQC.xlsx</td>\n",
       "      <td></td>\n",
       "      <td>False</td>\n",
       "    </tr>\n",
       "  </tbody>\n",
       "</table>\n",
       "</div>"
      ],
      "text/plain": [
       "  Language_BasedOnMasterSheet ISO code (from Original_FileName)  \\\n",
       "4             Abui Takalelang                               ABZ   \n",
       "5             Abui Takalelang                                NA   \n",
       "6             Abui Takalelang                                NA   \n",
       "8                       Adang                                NA   \n",
       "9                        Agta                               AGT   \n",
       "\n",
       "           COUNTRY LocalWordsPresent             QC_done  \\\n",
       "4        Indonesia               293                  NO   \n",
       "5        Indonesia                NA                  NA   \n",
       "6        Indonesia                NA                  NA   \n",
       "8        Indonesia                NA                  NA   \n",
       "9  the Phillipines               952  Yes, but not ideal   \n",
       "\n",
       "  AddedToTheUnitedLanguagesMasterFile  \\\n",
       "4                                  NO   \n",
       "5                                  NA   \n",
       "6                                  NA   \n",
       "8                                  NA   \n",
       "9                                 Yes   \n",
       "\n",
       "                                             Comment Separator Mismatches_Eng  \\\n",
       "4  There is no orthography. Only few hundred IPAs...                        0   \n",
       "5                                                 NA        NA             NA   \n",
       "6                                                 NA        NA             NA   \n",
       "8                                                 NA        NA             NA   \n",
       "9  There seems to be an issue with the removal of...   , and /             13   \n",
       "\n",
       "  Mismatches_IndoOrTaga                             Original_FileName  \\\n",
       "4                     0  OCSEAN-ABZ_20220715-TAKALELANG_WORDLIST.xlsx   \n",
       "5                    NA                                            NA   \n",
       "6                    NA                                            NA   \n",
       "8                    NA                                            NA   \n",
       "9                    65     OCSEAN-AGT_20240124-WORDLIST_1TO1228.xlsx   \n",
       "\n",
       "                                        QC_FileName Google Map Coordinate  \\\n",
       "4                                                NA                         \n",
       "5                                                NA                         \n",
       "6                                                NA                         \n",
       "8                                                NA                         \n",
       "9  OCSEAN-AGT_20240124-WORDLIST_1TO1228_PostQC.xlsx                         \n",
       "\n",
       "    Used  \n",
       "4  False  \n",
       "5  False  \n",
       "6  False  \n",
       "8  False  \n",
       "9  False  "
      ]
     },
     "execution_count": 256,
     "metadata": {},
     "output_type": "execute_result"
    }
   ],
   "source": [
    "# This is a dataframe of the languages we cannot find a file for\n",
    "brokenrecords=(collectionsheet[\"Used\"]==False)\n",
    "brokensheet=collectionsheet.loc[brokenrecords,:]\n",
    "brokensheet.head()"
   ]
  },
  {
   "cell_type": "code",
   "execution_count": 278,
   "id": "9d37d475-6313-4ef4-a98b-bbfa39047dd7",
   "metadata": {
    "collapsed": true,
    "jupyter": {
     "outputs_hidden": true
    }
   },
   "outputs": [
    {
     "data": {
      "text/html": [
       "<div>\n",
       "<style scoped>\n",
       "    .dataframe tbody tr th:only-of-type {\n",
       "        vertical-align: middle;\n",
       "    }\n",
       "\n",
       "    .dataframe tbody tr th {\n",
       "        vertical-align: top;\n",
       "    }\n",
       "\n",
       "    .dataframe thead th {\n",
       "        text-align: right;\n",
       "    }\n",
       "</style>\n",
       "<table border=\"1\" class=\"dataframe\">\n",
       "  <thead>\n",
       "    <tr style=\"text-align: right;\">\n",
       "      <th></th>\n",
       "      <th>Language_BasedOnMasterSheet</th>\n",
       "      <th>ISO code (from Original_FileName)</th>\n",
       "      <th>COUNTRY</th>\n",
       "      <th>LocalWordsPresent</th>\n",
       "      <th>QC_done</th>\n",
       "      <th>AddedToTheUnitedLanguagesMasterFile</th>\n",
       "      <th>Comment</th>\n",
       "      <th>Separator</th>\n",
       "      <th>Mismatches_Eng</th>\n",
       "      <th>Mismatches_IndoOrTaga</th>\n",
       "      <th>Original_FileName</th>\n",
       "      <th>QC_FileName</th>\n",
       "      <th>Google Map Coordinate</th>\n",
       "      <th>Used</th>\n",
       "    </tr>\n",
       "  </thead>\n",
       "  <tbody>\n",
       "    <tr>\n",
       "      <th>0</th>\n",
       "      <td>Abui Bunggeta</td>\n",
       "      <td>ABZ</td>\n",
       "      <td>Indonesia</td>\n",
       "      <td>604</td>\n",
       "      <td>Yes</td>\n",
       "      <td>Yes</td>\n",
       "      <td>Some English and or Indonesian words in this l...</td>\n",
       "      <td>, and ; and ~ (?). Only used , and ;</td>\n",
       "      <td>41</td>\n",
       "      <td>87</td>\n",
       "      <td>OCSEAN-ABZ_20240605-BUNGGETA_WORDLIST.xlsx</td>\n",
       "      <td>OCSEAN-ABZ_20240605-BUNGGETA_WORDLIST_PostQC.xlsx</td>\n",
       "      <td></td>\n",
       "      <td>True</td>\n",
       "    </tr>\n",
       "    <tr>\n",
       "      <th>1</th>\n",
       "      <td>Abui Kilakawada</td>\n",
       "      <td>ABZ</td>\n",
       "      <td>Indonesia</td>\n",
       "      <td>604</td>\n",
       "      <td>Yes</td>\n",
       "      <td>Yes</td>\n",
       "      <td>English and English Elicitation notes complete...</td>\n",
       "      <td>, and ; and ~ (?). Only used , and ;</td>\n",
       "      <td>41</td>\n",
       "      <td>87</td>\n",
       "      <td>OCSEAN-ABZ_20240606-KILAKAWADA_WORDLIST.xlsx</td>\n",
       "      <td>OCSEAN-ABZ_20240606-KILAKAWADA_WORDLIST_PostQC...</td>\n",
       "      <td></td>\n",
       "      <td>True</td>\n",
       "    </tr>\n",
       "    <tr>\n",
       "      <th>2</th>\n",
       "      <td>Abui Mobyetang</td>\n",
       "      <td>ABZ</td>\n",
       "      <td>Indonesia</td>\n",
       "      <td>602</td>\n",
       "      <td>Yes</td>\n",
       "      <td>Yes</td>\n",
       "      <td>English Elicitation = English actually. Some E...</td>\n",
       "      <td>, and ; and ~ (?). Only used , and ;</td>\n",
       "      <td>41</td>\n",
       "      <td>87</td>\n",
       "      <td>OCSEAN-ABZ_20240610-MOBYETANG_WORDLIST.xlsx</td>\n",
       "      <td>OCSEAN-ABZ_20240610-MOBYETANG_WORDLIST_PostQC....</td>\n",
       "      <td></td>\n",
       "      <td>True</td>\n",
       "    </tr>\n",
       "    <tr>\n",
       "      <th>3</th>\n",
       "      <td>Abui Pelman</td>\n",
       "      <td>ABZ</td>\n",
       "      <td>Indonesia</td>\n",
       "      <td>602</td>\n",
       "      <td>Yes</td>\n",
       "      <td>Yes</td>\n",
       "      <td>English Elicitation = English actually. Some E...</td>\n",
       "      <td>, and ; and ~ (?). Only used , and ;</td>\n",
       "      <td>41</td>\n",
       "      <td>87</td>\n",
       "      <td>OCSEAN-ABZ_20240610-PELMAN_WORDLIST.xlsx</td>\n",
       "      <td>OCSEAN-ABZ_20240610-PELMAN_WORDLIST_PostQC.xlsx</td>\n",
       "      <td></td>\n",
       "      <td>True</td>\n",
       "    </tr>\n",
       "    <tr>\n",
       "      <th>7</th>\n",
       "      <td>Adang</td>\n",
       "      <td>ADN</td>\n",
       "      <td>Indonesia</td>\n",
       "      <td>234</td>\n",
       "      <td>Yes</td>\n",
       "      <td>Yes</td>\n",
       "      <td>The formatting of indonesian words in this lan...</td>\n",
       "      <td>,</td>\n",
       "      <td>NA</td>\n",
       "      <td>67</td>\n",
       "      <td>OCSEAN-ADN_20230427-WORDLIST.xlsx</td>\n",
       "      <td>OCSEAN-ADN_20230427-WORDLIST_PostQC.xlsx</td>\n",
       "      <td></td>\n",
       "      <td>True</td>\n",
       "    </tr>\n",
       "  </tbody>\n",
       "</table>\n",
       "</div>"
      ],
      "text/plain": [
       "  Language_BasedOnMasterSheet ISO code (from Original_FileName)    COUNTRY  \\\n",
       "0               Abui Bunggeta                               ABZ  Indonesia   \n",
       "1             Abui Kilakawada                               ABZ  Indonesia   \n",
       "2              Abui Mobyetang                               ABZ  Indonesia   \n",
       "3                 Abui Pelman                               ABZ  Indonesia   \n",
       "7                       Adang                               ADN  Indonesia   \n",
       "\n",
       "  LocalWordsPresent QC_done AddedToTheUnitedLanguagesMasterFile  \\\n",
       "0               604     Yes                                 Yes   \n",
       "1               604     Yes                                 Yes   \n",
       "2               602     Yes                                 Yes   \n",
       "3               602     Yes                                 Yes   \n",
       "7               234     Yes                                 Yes   \n",
       "\n",
       "                                             Comment  \\\n",
       "0  Some English and or Indonesian words in this l...   \n",
       "1  English and English Elicitation notes complete...   \n",
       "2  English Elicitation = English actually. Some E...   \n",
       "3  English Elicitation = English actually. Some E...   \n",
       "7  The formatting of indonesian words in this lan...   \n",
       "\n",
       "                              Separator Mismatches_Eng Mismatches_IndoOrTaga  \\\n",
       "0  , and ; and ~ (?). Only used , and ;             41                    87   \n",
       "1  , and ; and ~ (?). Only used , and ;             41                    87   \n",
       "2  , and ; and ~ (?). Only used , and ;             41                    87   \n",
       "3  , and ; and ~ (?). Only used , and ;             41                    87   \n",
       "7                                     ,             NA                    67   \n",
       "\n",
       "                              Original_FileName  \\\n",
       "0    OCSEAN-ABZ_20240605-BUNGGETA_WORDLIST.xlsx   \n",
       "1  OCSEAN-ABZ_20240606-KILAKAWADA_WORDLIST.xlsx   \n",
       "2   OCSEAN-ABZ_20240610-MOBYETANG_WORDLIST.xlsx   \n",
       "3      OCSEAN-ABZ_20240610-PELMAN_WORDLIST.xlsx   \n",
       "7             OCSEAN-ADN_20230427-WORDLIST.xlsx   \n",
       "\n",
       "                                         QC_FileName Google Map Coordinate  \\\n",
       "0  OCSEAN-ABZ_20240605-BUNGGETA_WORDLIST_PostQC.xlsx                         \n",
       "1  OCSEAN-ABZ_20240606-KILAKAWADA_WORDLIST_PostQC...                         \n",
       "2  OCSEAN-ABZ_20240610-MOBYETANG_WORDLIST_PostQC....                         \n",
       "3    OCSEAN-ABZ_20240610-PELMAN_WORDLIST_PostQC.xlsx                         \n",
       "7           OCSEAN-ADN_20230427-WORDLIST_PostQC.xlsx                         \n",
       "\n",
       "   Used  \n",
       "0  True  \n",
       "1  True  \n",
       "2  True  \n",
       "3  True  \n",
       "7  True  "
      ]
     },
     "execution_count": 278,
     "metadata": {},
     "output_type": "execute_result"
    }
   ],
   "source": [
    "# This is a dataframe of the languages we CAN find a file for\n",
    "cleansheet=collectionsheet.copy().loc[(collectionsheet[\"Used\"]==True),:]\n",
    "cleansheet[\"Language_BasedOnMasterSheet\"] = cleansheet[\"Language_BasedOnMasterSheet\"].apply(lambda x: x.strip())\n",
    "cleansheet.head()"
   ]
  },
  {
   "cell_type": "markdown",
   "id": "789b34ca-256d-41bd-ad7a-3e5a6e474ae0",
   "metadata": {},
   "source": [
    "### Reading all of the individual files\n",
    "\n",
    "We have made a list of files that exist, so now we will load each one.\n",
    "\n",
    "We are using 'dictionaries' here. These are lists that you access not in a \"spreadsheet\" format, but by name. We don't need to have them be the same \"shape\" which is very useful in this case, as we don't want to assume each spreadsheet has th same columns.\n",
    "\n",
    "Because of this, we are particularly interested in which columns are present in a dataset, so we'll list those in a special dictionary."
   ]
  },
  {
   "cell_type": "code",
   "execution_count": 279,
   "id": "9e43d161-75e8-4612-a9c0-7b3624b40281",
   "metadata": {},
   "outputs": [],
   "source": [
    "collection = {}\n",
    "colnames={}\n",
    "for id in cleansheet.index:\n",
    "    ## If there is an error its helpful to print which files we are reading when the error happens\n",
    "    # print(\"... Reading\",id,\": \",f)\n",
    "    f=cleansheet.at[id,\"QC_FileName\"]\n",
    "    fullfile=os.path.join(\"CleanedFiles\",f)\n",
    "    langname = cleansheet.at[id,\"Language_BasedOnMasterSheet\"]\n",
    "    collection[langname]=pd.read_excel(fullfile)\n",
    "    colnames[langname]=list(collection[langname].columns.values)\n",
    "    # print(\"Read\",id,\": \",f,\"successfully\")"
   ]
  },
  {
   "cell_type": "markdown",
   "id": "374f66ed-6add-482a-aa2d-3065b755a725",
   "metadata": {},
   "source": [
    "We will now make a new column in the dataframe based on whether there is a column called 'IPA'.\n",
    "\n",
    "This is a tricky bit f code. We have to do two loops, one over each file (the 'keys' of colnames) and again over all of the actual names found to check whether any are 'IPA'."
   ]
  },
  {
   "cell_type": "code",
   "execution_count": 280,
   "id": "17a50714-b70a-4e55-aade-7671b01264e6",
   "metadata": {},
   "outputs": [],
   "source": [
    "cleansheet.loc[:,\"Has_IPA\"] = [(any(x == 'IPA' for x in colnames[a])) for a in colnames.keys()]"
   ]
  },
  {
   "cell_type": "code",
   "execution_count": 281,
   "id": "abfe4862-70e2-4aee-b358-a5550eb8c8cd",
   "metadata": {},
   "outputs": [],
   "source": [
    "cleansheet.loc[:,\"Has_English\"] = [(any(x == 'English' for x in colnames[a])) for a in colnames.keys()]"
   ]
  },
  {
   "cell_type": "code",
   "execution_count": 282,
   "id": "bcf7b816-7a76-475b-a54b-7240ac499b13",
   "metadata": {},
   "outputs": [
    {
     "data": {
      "text/plain": [
       "Has_IPA\n",
       "False    65\n",
       "True      9\n",
       "Name: count, dtype: int64"
      ]
     },
     "execution_count": 282,
     "metadata": {},
     "output_type": "execute_result"
    }
   ],
   "source": [
    "cleansheet[\"Has_IPA\"].value_counts()"
   ]
  },
  {
   "cell_type": "code",
   "execution_count": 283,
   "id": "f41b9488-68b6-4663-94b1-a478a4cfa7b0",
   "metadata": {},
   "outputs": [
    {
     "data": {
      "text/plain": [
       "Has_English\n",
       "True     68\n",
       "False     6\n",
       "Name: count, dtype: int64"
      ]
     },
     "execution_count": 283,
     "metadata": {},
     "output_type": "execute_result"
    }
   ],
   "source": [
    "cleansheet[\"Has_English\"].value_counts()"
   ]
  },
  {
   "cell_type": "markdown",
   "id": "cbc208c5-ef21-4d78-b376-9a6d59369fba",
   "metadata": {},
   "source": [
    "We'll make two sheets, based on whether the spreadsheet has an 'IPA' column."
   ]
  },
  {
   "cell_type": "code",
   "execution_count": 284,
   "id": "57477563-264d-4797-ae77-7ef60de913ea",
   "metadata": {},
   "outputs": [
    {
     "data": {
      "text/plain": [
       "7            Adang\n",
       "14         Alurung\n",
       "65           Kelon\n",
       "67            Klon\n",
       "74           Mauta\n",
       "85    Reta Ternate\n",
       "Name: Language_BasedOnMasterSheet, dtype: object"
      ]
     },
     "execution_count": 284,
     "metadata": {},
     "output_type": "execute_result"
    }
   ],
   "source": [
    "noenglishsheet=cleansheet.loc[~cleansheet[\"Has_English\"],:]\n",
    "noenglishsheet[\"Language_BasedOnMasterSheet\"]"
   ]
  },
  {
   "cell_type": "code",
   "execution_count": 302,
   "id": "a212a486-d232-4c79-9c54-68d811a8f3dd",
   "metadata": {},
   "outputs": [
    {
     "data": {
      "text/plain": [
       "0        Abui Bunggeta\n",
       "1      Abui Kilakawada\n",
       "2       Abui Mobyetang\n",
       "3          Abui Pelman\n",
       "10       Agusan Manobo\n",
       "            ...       \n",
       "111             Tausug\n",
       "112              Tboli\n",
       "116           Uab Meto\n",
       "119              Waray\n",
       "121              Yakan\n",
       "Name: Language_BasedOnMasterSheet, Length: 68, dtype: object"
      ]
     },
     "execution_count": 302,
     "metadata": {},
     "output_type": "execute_result"
    }
   ],
   "source": [
    "englishsheet=cleansheet.copy().loc[cleansheet[\"Has_English\"],:]\n",
    "englishsheet[\"Language_BasedOnMasterSheet\"]"
   ]
  },
  {
   "cell_type": "markdown",
   "id": "d1b18a3a-bb03-442d-be91-3f0d99a59162",
   "metadata": {},
   "source": [
    "Lets check that all of our \"good\" data has English as a column?"
   ]
  },
  {
   "cell_type": "code",
   "execution_count": 304,
   "id": "c59b5266-e778-4737-880a-e6a6e637e023",
   "metadata": {},
   "outputs": [
    {
     "data": {
      "text/html": [
       "<div>\n",
       "<style scoped>\n",
       "    .dataframe tbody tr th:only-of-type {\n",
       "        vertical-align: middle;\n",
       "    }\n",
       "\n",
       "    .dataframe tbody tr th {\n",
       "        vertical-align: top;\n",
       "    }\n",
       "\n",
       "    .dataframe thead th {\n",
       "        text-align: right;\n",
       "    }\n",
       "</style>\n",
       "<table border=\"1\" class=\"dataframe\">\n",
       "  <thead>\n",
       "    <tr style=\"text-align: right;\">\n",
       "      <th></th>\n",
       "      <th>English</th>\n",
       "      <th>Tagalog</th>\n",
       "      <th>Hiligaynon_20220813</th>\n",
       "      <th>IPA</th>\n",
       "    </tr>\n",
       "  </thead>\n",
       "  <tbody>\n",
       "    <tr>\n",
       "      <th>0</th>\n",
       "      <td>world</td>\n",
       "      <td>mundo</td>\n",
       "      <td>kalibutan</td>\n",
       "      <td>ka.li.bu.tan</td>\n",
       "    </tr>\n",
       "    <tr>\n",
       "      <th>1</th>\n",
       "      <td>Earth</td>\n",
       "      <td>daigdig</td>\n",
       "      <td>kalibutan</td>\n",
       "      <td>ka.li.bu.tan</td>\n",
       "    </tr>\n",
       "    <tr>\n",
       "      <th>2</th>\n",
       "      <td>land, earth, soil</td>\n",
       "      <td>lupa'</td>\n",
       "      <td>duta</td>\n",
       "      <td>du.ta, bɑ.las</td>\n",
       "    </tr>\n",
       "    <tr>\n",
       "      <th>3</th>\n",
       "      <td>land, earth, soil</td>\n",
       "      <td>lupa'</td>\n",
       "      <td>balas</td>\n",
       "      <td>du.ta, bɑ.las</td>\n",
       "    </tr>\n",
       "    <tr>\n",
       "      <th>4</th>\n",
       "      <td>dust, fine earth</td>\n",
       "      <td>alikabok</td>\n",
       "      <td>yab-ok</td>\n",
       "      <td>yab.ɔʔ</td>\n",
       "    </tr>\n",
       "    <tr>\n",
       "      <th>...</th>\n",
       "      <td>...</td>\n",
       "      <td>...</td>\n",
       "      <td>...</td>\n",
       "      <td>...</td>\n",
       "    </tr>\n",
       "    <tr>\n",
       "      <th>1272</th>\n",
       "      <td>imam</td>\n",
       "      <td>imam</td>\n",
       "      <td>imam</td>\n",
       "      <td>NaN</td>\n",
       "    </tr>\n",
       "    <tr>\n",
       "      <th>1273</th>\n",
       "      <td>bless</td>\n",
       "      <td>pagmano</td>\n",
       "      <td>bendisyon</td>\n",
       "      <td>NaN</td>\n",
       "    </tr>\n",
       "    <tr>\n",
       "      <th>1274</th>\n",
       "      <td>redeem</td>\n",
       "      <td>tubos</td>\n",
       "      <td>NaN</td>\n",
       "      <td>NaN</td>\n",
       "    </tr>\n",
       "    <tr>\n",
       "      <th>1275</th>\n",
       "      <td>curse</td>\n",
       "      <td>isumpa</td>\n",
       "      <td>sumpa</td>\n",
       "      <td>NaN</td>\n",
       "    </tr>\n",
       "    <tr>\n",
       "      <th>1276</th>\n",
       "      <td>sorcerer, witch</td>\n",
       "      <td>mangkukulam</td>\n",
       "      <td>manughiwit</td>\n",
       "      <td>NaN</td>\n",
       "    </tr>\n",
       "  </tbody>\n",
       "</table>\n",
       "<p>1277 rows × 4 columns</p>\n",
       "</div>"
      ],
      "text/plain": [
       "                English      Tagalog Hiligaynon_20220813            IPA\n",
       "0                 world        mundo           kalibutan   ka.li.bu.tan\n",
       "1                 Earth      daigdig           kalibutan   ka.li.bu.tan\n",
       "2     land, earth, soil        lupa'                duta  du.ta, bɑ.las\n",
       "3     land, earth, soil        lupa'               balas  du.ta, bɑ.las\n",
       "4      dust, fine earth     alikabok              yab-ok         yab.ɔʔ\n",
       "...                 ...          ...                 ...            ...\n",
       "1272               imam         imam                imam            NaN\n",
       "1273              bless      pagmano           bendisyon            NaN\n",
       "1274             redeem        tubos                 NaN            NaN\n",
       "1275              curse       isumpa               sumpa            NaN\n",
       "1276    sorcerer, witch  mangkukulam          manughiwit            NaN\n",
       "\n",
       "[1277 rows x 4 columns]"
      ]
     },
     "execution_count": 304,
     "metadata": {},
     "output_type": "execute_result"
    }
   ],
   "source": [
    "collection['Hiligaynon_20220813']"
   ]
  },
  {
   "cell_type": "markdown",
   "id": "60821120-1ce6-461b-a83b-3bff69a3b5cd",
   "metadata": {},
   "source": [
    "It does, so we can now start with the core goal: a 'join' operation on the data.\n",
    "\n",
    "## Merging the datasets\n",
    "\n",
    "We will only merge the 'IPA' column, based on 'English' as a key."
   ]
  },
  {
   "cell_type": "code",
   "execution_count": 306,
   "id": "289d52c8-2612-4a26-9a97-834a7045c787",
   "metadata": {},
   "outputs": [],
   "source": [
    "from thefuzz import process\n",
    "englishsheet[\"Language_AsInFile\"]=\"\"\n",
    "for id in englishsheet.index:\n",
    "    language_name=englishsheet.at[id,\"Language_BasedOnMasterSheet\"]\n",
    "    englishsheet.at[id,\"Language_AsInFile\"]=process.extractOne(language_name, colnames[language_name])[0]"
   ]
  },
  {
   "cell_type": "code",
   "execution_count": 318,
   "id": "91906de9-66e2-403c-9bc0-ce26f5c49b71",
   "metadata": {},
   "outputs": [],
   "source": [
    "joinable_collection = {} # This is an empty dictionary: we'll populate it from the collection dictionary\n",
    "\n",
    "# Now iterate over only those languages that we have data for:\n",
    "for id in englishsheet.index:\n",
    "#    print(language_name,englishsheet.at[id,\"Language_AsInFile\"],englishsheet.at[id,\"QC_FileName\"])\n",
    "    language_name=englishsheet.at[id,\"Language_BasedOnMasterSheet\"]\n",
    "    # First, get just the columns we want. Note we have to copy the dataframe\n",
    "    simple_data=collection[language_name].copy()[[\"English\",englishsheet.at[id,\"Language_AsInFile\"]]] \n",
    "    # Add the Language as a new column\n",
    "    simple_data[\"Language\"]=englishsheet.at[id,\"Language_AsInFile\"]\n",
    "    # Rename the columns to English\n",
    "    simple_data = simple_data.rename(columns={englishsheet.at[id,\"Language_AsInFile\"]: 'Word', \"English\": 'Concept'})\n",
    "    # Remove any rows that have NA as the in the \"Concept\" or \"Word\" (was the original language)\n",
    "    simple_data=simple_data.dropna()\n",
    "    joinable_collection[language_name]=simple_data # Add the new data frame to the dictionary of all data frames"
   ]
  },
  {
   "cell_type": "code",
   "execution_count": 322,
   "id": "52812806-ea33-49a1-8eac-a82363edab87",
   "metadata": {},
   "outputs": [],
   "source": [
    "joined_data = pd.concat(joinable_collection.values(), axis=0, ignore_index=True)"
   ]
  },
  {
   "cell_type": "code",
   "execution_count": 328,
   "id": "6d2e63f8-dd4a-4590-a4f1-987a7d79c3da",
   "metadata": {},
   "outputs": [
    {
     "data": {
      "text/plain": [
       "Concept\n",
       "smell                                            210\n",
       "child                                            128\n",
       "fly                                              125\n",
       "bathe                                            124\n",
       "short                                            124\n",
       "                                                ... \n",
       "Comb one's hair                                    1\n",
       "Comb                                               1\n",
       "Earring                                            1\n",
       "Bead                                               1\n",
       "rough bamboo,giant bamboo(Dendrocalamusasper)      1\n",
       "Name: count, Length: 3092, dtype: int64"
      ]
     },
     "execution_count": 328,
     "metadata": {},
     "output_type": "execute_result"
    }
   ],
   "source": [
    "concept_counts = joined_data[\"Concept\"].value_counts()\n",
    "language_counts = joined_data[\"Language\"].value_counts()\n",
    "concept_counts"
   ]
  },
  {
   "cell_type": "code",
   "execution_count": 327,
   "id": "a0dfceda-af2b-446a-ae34-264f5d82690f",
   "metadata": {},
   "outputs": [
    {
     "data": {
      "image/png": "[encoded data removed]",
      "text/plain": [
       "<Figure size 800x500 with 1 Axes>"
      ]
     },
     "metadata": {},
     "output_type": "display_data"
    }
   ],
   "source": [
    "import seaborn as sns\n",
    "import matplotlib.pyplot as plt\n",
    "\n",
    "plt.figure(figsize=(8, 5))\n",
    "sns.histplot(concept_counts, bins=range(concept_counts.min(), concept_counts.max() + 2), kde=False, edgecolor='black')\n",
    "plt.xlabel('Number of Languages per concept')\n",
    "plt.ylabel('Frequency')\n",
    "plt.title('Histogram of Languages per concept')\n",
    "plt.show()"
   ]
  },
  {
   "cell_type": "code",
   "execution_count": 332,
   "id": "da59adf3-ba32-4936-b894-fdc725d561fa",
   "metadata": {},
   "outputs": [
    {
     "data": {
      "image/png": "[encoded data removed]",
      "text/plain": [
       "<Figure size 800x500 with 1 Axes>"
      ]
     },
     "metadata": {},
     "output_type": "display_data"
    }
   ],
   "source": [
    "import seaborn as sns\n",
    "import matplotlib.pyplot as plt\n",
    "\n",
    "plt.figure(figsize=(8, 5))\n",
    "sns.histplot(language_counts, bins=20, kde=True, edgecolor='black')\n",
    "plt.xlabel('Number of Concepts per Language')\n",
    "plt.ylabel('Frequency')\n",
    "plt.title('Histogram of Concepts per Language')\n",
    "plt.show()"
   ]
  },
  {
   "cell_type": "markdown",
   "id": "d0f9d592-f3bd-49f7-ac35-1fb1d5c0d09e",
   "metadata": {},
   "source": [
    "This is how we can convert the joined data in \"thin\" format to \"wide\" format. Note we have to remove duplicates to do so."
   ]
  },
  {
   "cell_type": "code",
   "execution_count": 338,
   "id": "b1acb5ef-7f0f-4f71-b9de-973b1f25b7aa",
   "metadata": {},
   "outputs": [],
   "source": [
    "joined_data_deduped = joined_data.copy().drop_duplicates(['Concept','Language'])\n",
    "pivoted_data = joined_data_deduped.pivot(index='Concept', columns='Language', values='Word')"
   ]
  },
  {
   "cell_type": "code",
   "execution_count": 340,
   "id": "f8b23700-e8c9-493a-b6f4-212da30ca44a",
   "metadata": {},
   "outputs": [
    {
     "data": {
      "text/html": [
       "<div>\n",
       "<style scoped>\n",
       "    .dataframe tbody tr th:only-of-type {\n",
       "        vertical-align: middle;\n",
       "    }\n",
       "\n",
       "    .dataframe tbody tr th {\n",
       "        vertical-align: top;\n",
       "    }\n",
       "\n",
       "    .dataframe thead th {\n",
       "        text-align: right;\n",
       "    }\n",
       "</style>\n",
       "<table border=\"1\" class=\"dataframe\">\n",
       "  <thead>\n",
       "    <tr style=\"text-align: right;\">\n",
       "      <th>Language</th>\n",
       "      <th>Abui_Bunggeta</th>\n",
       "      <th>Abui_Kilakawada</th>\n",
       "      <th>Abui_Mobyetang</th>\n",
       "      <th>Abui_Pelman</th>\n",
       "      <th>Agusan_Manobo</th>\n",
       "      <th>Agutaynen</th>\n",
       "      <th>Akeanon</th>\n",
       "      <th>Arta</th>\n",
       "      <th>Ata</th>\n",
       "      <th>Ati</th>\n",
       "      <th>...</th>\n",
       "      <th>Sinama_Sitangkai</th>\n",
       "      <th>Sinama_Tabawan</th>\n",
       "      <th>Tagakaulo</th>\n",
       "      <th>Tagbanwa_Central</th>\n",
       "      <th>Talaandig</th>\n",
       "      <th>Tausug</th>\n",
       "      <th>Tboli</th>\n",
       "      <th>Uab_Meto</th>\n",
       "      <th>Waray</th>\n",
       "      <th>Yakan</th>\n",
       "    </tr>\n",
       "    <tr>\n",
       "      <th>Concept</th>\n",
       "      <th></th>\n",
       "      <th></th>\n",
       "      <th></th>\n",
       "      <th></th>\n",
       "      <th></th>\n",
       "      <th></th>\n",
       "      <th></th>\n",
       "      <th></th>\n",
       "      <th></th>\n",
       "      <th></th>\n",
       "      <th></th>\n",
       "      <th></th>\n",
       "      <th></th>\n",
       "      <th></th>\n",
       "      <th></th>\n",
       "      <th></th>\n",
       "      <th></th>\n",
       "      <th></th>\n",
       "      <th></th>\n",
       "      <th></th>\n",
       "      <th></th>\n",
       "    </tr>\n",
       "  </thead>\n",
       "  <tbody>\n",
       "    <tr>\n",
       "      <th>(coral) ree</th>\n",
       "      <td>NaN</td>\n",
       "      <td>NaN</td>\n",
       "      <td>NaN</td>\n",
       "      <td>NaN</td>\n",
       "      <td>NaN</td>\n",
       "      <td>NaN</td>\n",
       "      <td>NaN</td>\n",
       "      <td>NaN</td>\n",
       "      <td>NaN</td>\n",
       "      <td>NaN</td>\n",
       "      <td>...</td>\n",
       "      <td>NaN</td>\n",
       "      <td>NaN</td>\n",
       "      <td>NaN</td>\n",
       "      <td>NaN</td>\n",
       "      <td>NaN</td>\n",
       "      <td>NaN</td>\n",
       "      <td>NaN</td>\n",
       "      <td>NaN</td>\n",
       "      <td>NaN</td>\n",
       "      <td>NaN</td>\n",
       "    </tr>\n",
       "    <tr>\n",
       "      <th>(coral) reef</th>\n",
       "      <td>koqai</td>\n",
       "      <td>tama wiiy</td>\n",
       "      <td>tama kokai</td>\n",
       "      <td>tama kokai</td>\n",
       "      <td>bahura</td>\n",
       "      <td>NaN</td>\n",
       "      <td>takut</td>\n",
       "      <td>karagtan bunba</td>\n",
       "      <td>NaN</td>\n",
       "      <td>NaN</td>\n",
       "      <td>...</td>\n",
       "      <td>NaN</td>\n",
       "      <td>takot</td>\n",
       "      <td>NaN</td>\n",
       "      <td>ngirito tangkapa</td>\n",
       "      <td>NaN</td>\n",
       "      <td>NaN</td>\n",
       "      <td>botu lemnek</td>\n",
       "      <td>laut</td>\n",
       "      <td>daramo utango</td>\n",
       "      <td>sahasa'</td>\n",
       "    </tr>\n",
       "    <tr>\n",
       "      <th>1 person sg.</th>\n",
       "      <td>NaN</td>\n",
       "      <td>NaN</td>\n",
       "      <td>NaN</td>\n",
       "      <td>NaN</td>\n",
       "      <td>NaN</td>\n",
       "      <td>NaN</td>\n",
       "      <td>NaN</td>\n",
       "      <td>NaN</td>\n",
       "      <td>NaN</td>\n",
       "      <td>NaN</td>\n",
       "      <td>...</td>\n",
       "      <td>NaN</td>\n",
       "      <td>NaN</td>\n",
       "      <td>NaN</td>\n",
       "      <td>NaN</td>\n",
       "      <td>NaN</td>\n",
       "      <td>NaN</td>\n",
       "      <td>NaN</td>\n",
       "      <td>NaN</td>\n",
       "      <td>NaN</td>\n",
       "      <td>NaN</td>\n",
       "    </tr>\n",
       "    <tr>\n",
       "      <th>160 couplets</th>\n",
       "      <td>NaN</td>\n",
       "      <td>NaN</td>\n",
       "      <td>NaN</td>\n",
       "      <td>NaN</td>\n",
       "      <td>NaN</td>\n",
       "      <td>NaN</td>\n",
       "      <td>NaN</td>\n",
       "      <td>NaN</td>\n",
       "      <td>NaN</td>\n",
       "      <td>NaN</td>\n",
       "      <td>...</td>\n",
       "      <td>NaN</td>\n",
       "      <td>NaN</td>\n",
       "      <td>NaN</td>\n",
       "      <td>NaN</td>\n",
       "      <td>NaN</td>\n",
       "      <td>NaN</td>\n",
       "      <td>NaN</td>\n",
       "      <td>NaN</td>\n",
       "      <td>NaN</td>\n",
       "      <td>NaN</td>\n",
       "    </tr>\n",
       "    <tr>\n",
       "      <th>1pl excl</th>\n",
       "      <td>niidi</td>\n",
       "      <td>niidi</td>\n",
       "      <td>niedi</td>\n",
       "      <td>niedi ~ niadi</td>\n",
       "      <td>sikami</td>\n",
       "      <td>yami</td>\n",
       "      <td>kami</td>\n",
       "      <td>tami</td>\n",
       "      <td>kanami</td>\n",
       "      <td>ikam</td>\n",
       "      <td>...</td>\n",
       "      <td>kitam</td>\n",
       "      <td>kami</td>\n",
       "      <td>kami</td>\n",
       "      <td>kami</td>\n",
       "      <td>sikuy</td>\n",
       "      <td>kami</td>\n",
       "      <td>olon béle tekuy</td>\n",
       "      <td>hai'</td>\n",
       "      <td>kami</td>\n",
       "      <td>kami</td>\n",
       "    </tr>\n",
       "  </tbody>\n",
       "</table>\n",
       "<p>5 rows × 68 columns</p>\n",
       "</div>"
      ],
      "text/plain": [
       "Language     Abui_Bunggeta Abui_Kilakawada Abui_Mobyetang    Abui_Pelman  \\\n",
       "Concept                                                                    \n",
       "(coral) ree            NaN             NaN            NaN            NaN   \n",
       "(coral) reef         koqai       tama wiiy     tama kokai     tama kokai   \n",
       "1 person sg.           NaN             NaN            NaN            NaN   \n",
       "160 couplets           NaN             NaN            NaN            NaN   \n",
       "1pl excl             niidi           niidi          niedi  niedi ~ niadi   \n",
       "\n",
       "Language     Agusan_Manobo Agutaynen Akeanon            Arta     Ata   Ati  \\\n",
       "Concept                                                                      \n",
       "(coral) ree            NaN       NaN     NaN             NaN     NaN   NaN   \n",
       "(coral) reef        bahura       NaN   takut  karagtan bunba     NaN   NaN   \n",
       "1 person sg.           NaN       NaN     NaN             NaN     NaN   NaN   \n",
       "160 couplets           NaN       NaN     NaN             NaN     NaN   NaN   \n",
       "1pl excl            sikami      yami    kami            tami  kanami  ikam   \n",
       "\n",
       "Language      ... Sinama_Sitangkai Sinama_Tabawan Tagakaulo  \\\n",
       "Concept       ...                                             \n",
       "(coral) ree   ...              NaN            NaN       NaN   \n",
       "(coral) reef  ...              NaN          takot       NaN   \n",
       "1 person sg.  ...              NaN            NaN       NaN   \n",
       "160 couplets  ...              NaN            NaN       NaN   \n",
       "1pl excl      ...            kitam           kami      kami   \n",
       "\n",
       "Language       Tagbanwa_Central Talaandig Tausug            Tboli Uab_Meto  \\\n",
       "Concept                                                                      \n",
       "(coral) ree                 NaN       NaN    NaN              NaN      NaN   \n",
       "(coral) reef   ngirito tangkapa       NaN    NaN      botu lemnek     laut   \n",
       "1 person sg.                NaN       NaN    NaN              NaN      NaN   \n",
       "160 couplets                NaN       NaN    NaN              NaN      NaN   \n",
       "1pl excl                   kami     sikuy   kami  olon béle tekuy     hai'   \n",
       "\n",
       "Language              Waray    Yakan  \n",
       "Concept                               \n",
       "(coral) ree             NaN      NaN  \n",
       "(coral) reef  daramo utango  sahasa'  \n",
       "1 person sg.            NaN      NaN  \n",
       "160 couplets            NaN      NaN  \n",
       "1pl excl               kami     kami  \n",
       "\n",
       "[5 rows x 68 columns]"
      ]
     },
     "execution_count": 340,
     "metadata": {},
     "output_type": "execute_result"
    }
   ],
   "source": [
    "pivoted_data.head()"
   ]
  },
  {
   "cell_type": "code",
   "execution_count": 342,
   "id": "70d4712c-9148-4acb-9817-2726198f9988",
   "metadata": {},
   "outputs": [
    {
     "name": "stdout",
     "output_type": "stream",
     "text": [
      "['English', 'Indonesian', 'Abui_Mobyetang', 'Semantic Sphere']\n",
      "['English', 'Indonesian', 'IPA', 'Mawesdai', 'Semantic field']\n",
      "['English', 'Tagalog', 'Ivatan_Isabtangen', 'IPA']\n"
     ]
    }
   ],
   "source": [
    "print(colnames[\"Abui Mobyetang\"])\n",
    "print(colnames[\"Mawesdai\"])\n",
    "print(colnames[\"Ivatan Isabtangan\"])"
   ]
  },
  {
   "cell_type": "markdown",
   "id": "0aabc13d-9084-41b0-a0a6-fe15d6b9d1f5",
   "metadata": {},
   "source": [
    "## Extracting information about columns\n",
    "\n",
    "This is a tricky bit! Lets look at what the columns look like:"
   ]
  },
  {
   "cell_type": "markdown",
   "id": "b4690a98-8498-4bb8-8f6a-945bbc9b4811",
   "metadata": {},
   "source": [
    "We see that English is often here, IPA appears in both our choices. The target language appears too, and 'Semantic something' with no consistency.\n",
    "\n",
    "We will now count everything to see what broader patterns there are. This is done by making a list of all of the values that we see:"
   ]
  },
  {
   "cell_type": "code",
   "execution_count": 213,
   "id": "80af73e0-6aa2-4926-aee3-64a9753272b8",
   "metadata": {},
   "outputs": [],
   "source": [
    "values_as_list = []\n",
    "for sublist in colnames.values():\n",
    "    values_as_list.extend(sublist)"
   ]
  },
  {
   "cell_type": "code",
   "execution_count": 214,
   "id": "d4b9c031-799e-4524-ad13-acf7cca79858",
   "metadata": {},
   "outputs": [],
   "source": [
    "## If we just want the unique values we can use the python function 'set' which gets rid of duplicates for us.\n",
    "unique_cols=list(set(values_as_list))"
   ]
  },
  {
   "cell_type": "markdown",
   "id": "7506bfe3-1a3d-47c8-91fd-44b3f218c4b8",
   "metadata": {},
   "source": [
    "We will now count the number of occurances of each column."
   ]
  },
  {
   "cell_type": "code",
   "execution_count": 217,
   "id": "61e08207-d95a-499c-a7c1-2fce8fc4f262",
   "metadata": {},
   "outputs": [],
   "source": [
    "from collections import Counter\n",
    "# Create a Counter object to count occurrences\n",
    "counter_obj = Counter(values_as_list)"
   ]
  },
  {
   "cell_type": "markdown",
   "id": "22dece9f-1da0-4423-8660-92e33493b680",
   "metadata": {},
   "source": [
    "We expect that each studied language will appear exactly once, whilst IPA and English would ideally be present in every case. Indonesian should be there for every Indonesian language, and we would also expect semantic field information too."
   ]
  },
  {
   "cell_type": "code",
   "execution_count": 218,
   "id": "08064c42-7901-49e6-a664-49abf526ec42",
   "metadata": {},
   "outputs": [
    {
     "name": "stdout",
     "output_type": "stream",
     "text": [
      "English: 66\n",
      "Indonesian: 34\n",
      "IPA: 9\n",
      "Semantic Sphere: 4\n",
      "ENGLISH ELICITATION NOTES: 6\n",
      "Tagalog: 50\n",
      "CEBUANO: 5\n",
      "Kamayo: 2\n",
      "Talaandig: 2\n",
      "Semantic_Field: 22\n",
      "English elicitation notes: 19\n",
      "Indonesian elicitation notes: 16\n",
      "Cebuano: 14\n",
      "Tagalog Elicitation Notes: 3\n",
      "Ontology: 3\n",
      "Ilocano: 11\n",
      "Local Orthography: 3\n",
      "Kelon: 2\n",
      "Sangil: 2\n"
     ]
    }
   ],
   "source": [
    "# This is a nice way to present the counts.\n",
    "for item, count in counter_obj.items():\n",
    "    if count > 1:\n",
    "        print(f\"{item}: {count}\")"
   ]
  },
  {
   "cell_type": "markdown",
   "id": "50a54751-2a26-45c5-9f74-64ac582e6938",
   "metadata": {},
   "source": [
    "This implies we need to tidy up. Several minor languages appear wtwoce, and we have incomplete IPA and Semantic_Field information. We should however be able to join on the 'English' field."
   ]
  },
  {
   "cell_type": "markdown",
   "id": "5f2718cd-50de-488a-932d-adadb9eda1f4",
   "metadata": {},
   "source": [
    "## Ending: tidying up\n",
    "\n",
    "Finally, we'll save the most useful of these spreadsheets as new excel files."
   ]
  },
  {
   "cell_type": "code",
   "execution_count": 344,
   "id": "375c3e14-e9de-4311-ae86-791f3891719b",
   "metadata": {},
   "outputs": [
    {
     "name": "stderr",
     "output_type": "stream",
     "text": [
      "/var/folders/sd/6b6ndf8s69l3glyl3t0xl7zr0000gq/T/ipykernel_90279/2012373909.py:2: FutureWarning: Downcasting behavior in `replace` is deprecated and will be removed in a future version. To retain the old behavior, explicitly call `result.infer_objects(copy=False)`. To opt-in to the future behavior, set `pd.set_option('future.no_silent_downcasting', True)`\n",
      "  englishsheet.replace({True: 'TRUE', False: 'FALSE'}).to_excel(\"OCSEAN_initial_englishsheet.xlsx\")\n"
     ]
    }
   ],
   "source": [
    "## Annoyingly the 'to_excel' function doesn't handle True/False very well, so we'll make a duplicate that contains strings and save those.\n",
    "englishsheet.replace({True: 'TRUE', False: 'FALSE'}).to_excel(\"OCSEAN_initial_englishsheet.xlsx\")  \n",
    "collectionsheet.replace({True: 'TRUE', False: 'FALSE'}).to_excel(\"OCSEAN_initial_collectionsheet.xlsx\")"
   ]
  },
  {
   "cell_type": "code",
   "execution_count": 345,
   "id": "6553a9f3-ac8d-4872-8677-fd77df5b358e",
   "metadata": {},
   "outputs": [],
   "source": [
    "joined_data.to_excel(\"OCSEAN_initial_joineddata.xlsx\")"
   ]
  },
  {
   "cell_type": "code",
   "execution_count": 346,
   "id": "c3496456-c814-4101-979d-923141869818",
   "metadata": {},
   "outputs": [],
   "source": [
    "pivoted_data.to_excel(\"OCSEAN_initial_joineddata_pivoted_derived.xlsx\")"
   ]
  },
  {
   "cell_type": "code",
   "execution_count": null,
   "id": "ef286b23-ea74-490e-86f3-adc7153aea78",
   "metadata": {},
   "outputs": [],
   "source": []
  }
 ],
 "metadata": {
  "kernelspec": {
   "display_name": "Python 3 (ipykernel)",
   "language": "python",
   "name": "python3"
  },
  "language_info": {
   "codemirror_mode": {
    "name": "ipython",
    "version": 3
   },
   "file_extension": ".py",
   "mimetype": "text/x-python",
   "name": "python",
   "nbconvert_exporter": "python",
   "pygments_lexer": "ipython3",
   "version": "3.12.7"
  }
 },
 "nbformat": 4,
 "nbformat_minor": 5
}
