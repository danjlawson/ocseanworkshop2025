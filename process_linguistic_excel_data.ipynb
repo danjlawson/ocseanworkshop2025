{
 "cells": [
  {
   "cell_type": "markdown",
   "id": "7723077e-82b6-460c-a350-872509650bc8",
   "metadata": {},
   "source": [
    "# Processing the Linguistic data\n",
    "\n",
    "This uses the \"OCSEAN_language_collection_overview_April_25.xlsx\" data and CleanedData folder provided by Monika.\n"
   ]
  },
  {
   "cell_type": "markdown",
   "id": "c8c0e3ce-38a0-4a97-a5d6-6921c298f967",
   "metadata": {},
   "source": [
    "## Preamble\n",
    "\n",
    "We import some useful libraries that we will use further down."
   ]
  },
  {
   "cell_type": "code",
   "execution_count": 1,
   "id": "a3d86269-e247-4607-b544-249dbb48ea97",
   "metadata": {},
   "outputs": [],
   "source": [
    "import pandas as pd # Pandas is the most common \"data frame\", i.e. Excel-sheet reader\n",
    "import os # os = operating system; we use this for accessing files on the computer\n",
    "import re"
   ]
  },
  {
   "cell_type": "code",
   "execution_count": 2,
   "id": "da342f68-200a-4037-ad31-6a6275f8b3f1",
   "metadata": {},
   "outputs": [
    {
     "data": {
      "text/plain": [
       "'/Users/madjl/GoogleDrive/University/OCSEAN-2025/RESEARCH'"
      ]
     },
     "execution_count": 2,
     "metadata": {},
     "output_type": "execute_result"
    }
   ],
   "source": [
    "os.getcwd() # Which directory are we in? It should contain the file and folder described above inside it."
   ]
  },
  {
   "cell_type": "markdown",
   "id": "955db02a-0ca7-461f-9719-63b672abd470",
   "metadata": {},
   "source": [
    "## Reading and checking data\n",
    "\n",
    "We will read the main excel overview file using pandas. It is a simple call, but to make life easier we will choose not to treat missing (empty) cells specially; they are just an empty string. This is a bad idea for numerical values but can be useful for strings."
   ]
  },
  {
   "cell_type": "code",
   "execution_count": 3,
   "id": "dc037537-ac3c-41dd-8e7b-cfa6a223e8ce",
   "metadata": {},
   "outputs": [],
   "source": [
    "collectionsheet=pd.read_excel(\"OCSEAN_language_collection_overview_April_25.xlsx\",na_filter=False)  \n",
    "# We don't detect NA values, and instead treat them as they are (empty strings)"
   ]
  },
  {
   "cell_type": "code",
   "execution_count": 4,
   "id": "a040b2a1-f907-4799-9f59-ed99b5b786be",
   "metadata": {},
   "outputs": [
    {
     "data": {
      "text/html": [
       "<div>\n",
       "<style scoped>\n",
       "    .dataframe tbody tr th:only-of-type {\n",
       "        vertical-align: middle;\n",
       "    }\n",
       "\n",
       "    .dataframe tbody tr th {\n",
       "        vertical-align: top;\n",
       "    }\n",
       "\n",
       "    .dataframe thead th {\n",
       "        text-align: right;\n",
       "    }\n",
       "</style>\n",
       "<table border=\"1\" class=\"dataframe\">\n",
       "  <thead>\n",
       "    <tr style=\"text-align: right;\">\n",
       "      <th></th>\n",
       "      <th>Language_BasedOnMasterSheet</th>\n",
       "      <th>ISO code (from Original_FileName)</th>\n",
       "      <th>COUNTRY</th>\n",
       "      <th>LocalWordsPresent</th>\n",
       "      <th>QC_done</th>\n",
       "      <th>AddedToTheUnitedLanguagesMasterFile</th>\n",
       "      <th>Comment</th>\n",
       "      <th>Separator</th>\n",
       "      <th>Mismatches_Eng</th>\n",
       "      <th>Mismatches_IndoOrTaga</th>\n",
       "      <th>Original_FileName</th>\n",
       "      <th>QC_FileName</th>\n",
       "      <th>Google Map Coordinate</th>\n",
       "    </tr>\n",
       "  </thead>\n",
       "  <tbody>\n",
       "    <tr>\n",
       "      <th>0</th>\n",
       "      <td>Abui Bunggeta</td>\n",
       "      <td>ABZ</td>\n",
       "      <td>Indonesia</td>\n",
       "      <td>604</td>\n",
       "      <td>Yes</td>\n",
       "      <td>Yes</td>\n",
       "      <td>Some English and or Indonesian words in this l...</td>\n",
       "      <td>, and ; and ~ (?). Only used , and ;</td>\n",
       "      <td>41</td>\n",
       "      <td>87</td>\n",
       "      <td>OCSEAN-ABZ_20240605-BUNGGETA_WORDLIST.xlsx</td>\n",
       "      <td>OCSEAN-ABZ_20240605-BUNGGETA_WORDLIST_PostQC.xlsx</td>\n",
       "      <td></td>\n",
       "    </tr>\n",
       "    <tr>\n",
       "      <th>1</th>\n",
       "      <td>Abui Kilakawada</td>\n",
       "      <td>ABZ</td>\n",
       "      <td>Indonesia</td>\n",
       "      <td>604</td>\n",
       "      <td>Yes</td>\n",
       "      <td>Yes</td>\n",
       "      <td>English and English Elicitation notes complete...</td>\n",
       "      <td>, and ; and ~ (?). Only used , and ;</td>\n",
       "      <td>41</td>\n",
       "      <td>87</td>\n",
       "      <td>OCSEAN-ABZ_20240606-KILAKAWADA_WORDLIST.xlsx</td>\n",
       "      <td>OCSEAN-ABZ_20240606-KILAKAWADA_WORDLIST_PostQC...</td>\n",
       "      <td></td>\n",
       "    </tr>\n",
       "    <tr>\n",
       "      <th>2</th>\n",
       "      <td>Abui Mobyetang</td>\n",
       "      <td>ABZ</td>\n",
       "      <td>Indonesia</td>\n",
       "      <td>602</td>\n",
       "      <td>Yes</td>\n",
       "      <td>Yes</td>\n",
       "      <td>English Elicitation = English actually. Some E...</td>\n",
       "      <td>, and ; and ~ (?). Only used , and ;</td>\n",
       "      <td>41</td>\n",
       "      <td>87</td>\n",
       "      <td>OCSEAN-ABZ_20240610-MOBYETANG_WORDLIST.xlsx</td>\n",
       "      <td>OCSEAN-ABZ_20240610-MOBYETANG_WORDLIST_PostQC....</td>\n",
       "      <td></td>\n",
       "    </tr>\n",
       "    <tr>\n",
       "      <th>3</th>\n",
       "      <td>Abui Pelman</td>\n",
       "      <td>ABZ</td>\n",
       "      <td>Indonesia</td>\n",
       "      <td>602</td>\n",
       "      <td>Yes</td>\n",
       "      <td>Yes</td>\n",
       "      <td>English Elicitation = English actually. Some E...</td>\n",
       "      <td>, and ; and ~ (?). Only used , and ;</td>\n",
       "      <td>41</td>\n",
       "      <td>87</td>\n",
       "      <td>OCSEAN-ABZ_20240610-PELMAN_WORDLIST.xlsx</td>\n",
       "      <td>OCSEAN-ABZ_20240610-PELMAN_WORDLIST_PostQC.xlsx</td>\n",
       "      <td></td>\n",
       "    </tr>\n",
       "    <tr>\n",
       "      <th>4</th>\n",
       "      <td>Abui Takalelang</td>\n",
       "      <td>ABZ</td>\n",
       "      <td>Indonesia</td>\n",
       "      <td>293</td>\n",
       "      <td>NO</td>\n",
       "      <td>NO</td>\n",
       "      <td>There is no orthography. Only few hundred IPAs...</td>\n",
       "      <td></td>\n",
       "      <td>0</td>\n",
       "      <td>0</td>\n",
       "      <td>OCSEAN-ABZ_20220715-TAKALELANG_WORDLIST.xlsx</td>\n",
       "      <td>NA</td>\n",
       "      <td></td>\n",
       "    </tr>\n",
       "  </tbody>\n",
       "</table>\n",
       "</div>"
      ],
      "text/plain": [
       "  Language_BasedOnMasterSheet ISO code (from Original_FileName)    COUNTRY  \\\n",
       "0               Abui Bunggeta                               ABZ  Indonesia   \n",
       "1             Abui Kilakawada                               ABZ  Indonesia   \n",
       "2              Abui Mobyetang                               ABZ  Indonesia   \n",
       "3                 Abui Pelman                               ABZ  Indonesia   \n",
       "4             Abui Takalelang                               ABZ  Indonesia   \n",
       "\n",
       "  LocalWordsPresent QC_done AddedToTheUnitedLanguagesMasterFile  \\\n",
       "0               604     Yes                                 Yes   \n",
       "1               604     Yes                                 Yes   \n",
       "2               602     Yes                                 Yes   \n",
       "3               602     Yes                                 Yes   \n",
       "4               293      NO                                  NO   \n",
       "\n",
       "                                             Comment  \\\n",
       "0  Some English and or Indonesian words in this l...   \n",
       "1  English and English Elicitation notes complete...   \n",
       "2  English Elicitation = English actually. Some E...   \n",
       "3  English Elicitation = English actually. Some E...   \n",
       "4  There is no orthography. Only few hundred IPAs...   \n",
       "\n",
       "                              Separator Mismatches_Eng Mismatches_IndoOrTaga  \\\n",
       "0  , and ; and ~ (?). Only used , and ;             41                    87   \n",
       "1  , and ; and ~ (?). Only used , and ;             41                    87   \n",
       "2  , and ; and ~ (?). Only used , and ;             41                    87   \n",
       "3  , and ; and ~ (?). Only used , and ;             41                    87   \n",
       "4                                                    0                     0   \n",
       "\n",
       "                              Original_FileName  \\\n",
       "0    OCSEAN-ABZ_20240605-BUNGGETA_WORDLIST.xlsx   \n",
       "1  OCSEAN-ABZ_20240606-KILAKAWADA_WORDLIST.xlsx   \n",
       "2   OCSEAN-ABZ_20240610-MOBYETANG_WORDLIST.xlsx   \n",
       "3      OCSEAN-ABZ_20240610-PELMAN_WORDLIST.xlsx   \n",
       "4  OCSEAN-ABZ_20220715-TAKALELANG_WORDLIST.xlsx   \n",
       "\n",
       "                                         QC_FileName Google Map Coordinate  \n",
       "0  OCSEAN-ABZ_20240605-BUNGGETA_WORDLIST_PostQC.xlsx                        \n",
       "1  OCSEAN-ABZ_20240606-KILAKAWADA_WORDLIST_PostQC...                        \n",
       "2  OCSEAN-ABZ_20240610-MOBYETANG_WORDLIST_PostQC....                        \n",
       "3    OCSEAN-ABZ_20240610-PELMAN_WORDLIST_PostQC.xlsx                        \n",
       "4                                                 NA                        "
      ]
     },
     "execution_count": 4,
     "metadata": {},
     "output_type": "execute_result"
    }
   ],
   "source": [
    "collectionsheet.head() # Look at the top few values"
   ]
  },
  {
   "cell_type": "markdown",
   "id": "a57d790a-3d05-448b-b9b2-a45f1f251240",
   "metadata": {},
   "source": [
    "## Convert the \"google map co-ordinate\" to simple longitute and latitute columns\n",
    "\n",
    "The co-ordinate information is in at least two formats so a little tricky to analyse. I asked ChatGPT:\n",
    "\n",
    "`I have a pandas dataframe containing longitude and latitute in a single free text column with some variation. Some examples are:\n",
    "\n",
    "9°15'55.8\"N 125°33'33.5\"E\n",
    "\n",
    "11.677084170029522, 122.32238044457551\n",
    "\n",
    "7°53'43.6\"N 122°54'57.6\"E\n",
    "\n",
    "I would like to process this column to reliably obtain a longitude and a latitude column. What is the easiest way to do that?`\n",
    "\n",
    "It gave me the following solution. This uses \"regular expressions\" (Regexp) to figure out the format, and turn this into a simple number. It handles the challenge of some formats having \"N=North\" or \"S=South\" (E/W) and others having +/- to indicate this."
   ]
  },
  {
   "cell_type": "code",
   "execution_count": 5,
   "id": "6c05ca76-138c-4505-844c-6c41a1bf3ddc",
   "metadata": {},
   "outputs": [],
   "source": [
    "def dms_to_dd(degrees, minutes, seconds, direction):\n",
    "    dd = float(degrees) + float(minutes)/60 + float(seconds)/3600\n",
    "    if direction in ['S', 'W']:\n",
    "        dd *= -1\n",
    "    return dd\n",
    "\n",
    "def parse_location(text):\n",
    "    # Check for decimal degrees format\n",
    "    decimal_match = re.match(r'\\s*(-?\\d+(?:\\.\\d+)?)\\s*,\\s*(-?\\d+(?:\\.\\d+)?)\\s*', text)\n",
    "    if decimal_match:\n",
    "        lat = float(decimal_match.group(1))\n",
    "        lon = float(decimal_match.group(2))\n",
    "        return lat, lon\n",
    "\n",
    "    # Match DMS format\n",
    "    dms_regex = re.findall(r\"(\\d+)[°](\\d+)'(\\d+(?:\\.\\d+)?)\\\"?([NSEW])\", text)\n",
    "    if len(dms_regex) == 2:\n",
    "        lat = dms_to_dd(*dms_regex[0])\n",
    "        lon = dms_to_dd(*dms_regex[1])\n",
    "        return lat, lon\n",
    "\n",
    "    return None, None  # Fallback if format doesn't match"
   ]
  },
  {
   "cell_type": "code",
   "execution_count": 6,
   "id": "21727732-7126-440c-99a2-e5cd057ebc40",
   "metadata": {},
   "outputs": [
    {
     "data": {
      "text/html": [
       "<div>\n",
       "<style scoped>\n",
       "    .dataframe tbody tr th:only-of-type {\n",
       "        vertical-align: middle;\n",
       "    }\n",
       "\n",
       "    .dataframe tbody tr th {\n",
       "        vertical-align: top;\n",
       "    }\n",
       "\n",
       "    .dataframe thead th {\n",
       "        text-align: right;\n",
       "    }\n",
       "</style>\n",
       "<table border=\"1\" class=\"dataframe\">\n",
       "  <thead>\n",
       "    <tr style=\"text-align: right;\">\n",
       "      <th></th>\n",
       "      <th>Language_BasedOnMasterSheet</th>\n",
       "      <th>ISO code (from Original_FileName)</th>\n",
       "      <th>COUNTRY</th>\n",
       "      <th>LocalWordsPresent</th>\n",
       "      <th>QC_done</th>\n",
       "      <th>AddedToTheUnitedLanguagesMasterFile</th>\n",
       "      <th>Comment</th>\n",
       "      <th>Separator</th>\n",
       "      <th>Mismatches_Eng</th>\n",
       "      <th>Mismatches_IndoOrTaga</th>\n",
       "      <th>Original_FileName</th>\n",
       "      <th>QC_FileName</th>\n",
       "      <th>Google Map Coordinate</th>\n",
       "      <th>latitude</th>\n",
       "      <th>longitude</th>\n",
       "    </tr>\n",
       "  </thead>\n",
       "  <tbody>\n",
       "    <tr>\n",
       "      <th>117</th>\n",
       "      <td>Umajamnon</td>\n",
       "      <td>NA</td>\n",
       "      <td>the Phillipines</td>\n",
       "      <td>NA</td>\n",
       "      <td>NA</td>\n",
       "      <td>NA</td>\n",
       "      <td>NA</td>\n",
       "      <td>NA</td>\n",
       "      <td>NA</td>\n",
       "      <td>NA</td>\n",
       "      <td>NA</td>\n",
       "      <td>NA</td>\n",
       "      <td></td>\n",
       "      <td>NaN</td>\n",
       "      <td>NaN</td>\n",
       "    </tr>\n",
       "    <tr>\n",
       "      <th>118</th>\n",
       "      <td>Umbu-Ungu (Andelale)</td>\n",
       "      <td>NA</td>\n",
       "      <td>Papua New Guinea</td>\n",
       "      <td>NA</td>\n",
       "      <td>NA</td>\n",
       "      <td>NA</td>\n",
       "      <td>NA</td>\n",
       "      <td>NA</td>\n",
       "      <td>NA</td>\n",
       "      <td>NA</td>\n",
       "      <td>NA</td>\n",
       "      <td>NA</td>\n",
       "      <td></td>\n",
       "      <td>NaN</td>\n",
       "      <td>NaN</td>\n",
       "    </tr>\n",
       "    <tr>\n",
       "      <th>119</th>\n",
       "      <td>Waray</td>\n",
       "      <td>WAR</td>\n",
       "      <td>the Phillipines</td>\n",
       "      <td>1178</td>\n",
       "      <td>Yes</td>\n",
       "      <td>Not yet</td>\n",
       "      <td>English Tagalog available, no Indonesian. No s...</td>\n",
       "      <td>space? Didn’t separate</td>\n",
       "      <td>0</td>\n",
       "      <td>1</td>\n",
       "      <td>OCSEAN-WAR_20240407-WORDLIST_1TO1228.xlsx</td>\n",
       "      <td>OCSEAN-WAR_20240407-WORDLIST_1TO1228_PostQC.xlsx</td>\n",
       "      <td>12.312908225545875, 125.01703265863979</td>\n",
       "      <td>12.312908</td>\n",
       "      <td>125.017033</td>\n",
       "    </tr>\n",
       "    <tr>\n",
       "      <th>120</th>\n",
       "      <td>Wersing Pantai Selatan</td>\n",
       "      <td>NA</td>\n",
       "      <td>Indonesia</td>\n",
       "      <td>NA</td>\n",
       "      <td>NA</td>\n",
       "      <td>NA</td>\n",
       "      <td>NA</td>\n",
       "      <td>NA</td>\n",
       "      <td>NA</td>\n",
       "      <td>NA</td>\n",
       "      <td>NA</td>\n",
       "      <td>NA</td>\n",
       "      <td></td>\n",
       "      <td>NaN</td>\n",
       "      <td>NaN</td>\n",
       "    </tr>\n",
       "    <tr>\n",
       "      <th>121</th>\n",
       "      <td>Yakan</td>\n",
       "      <td>YKA</td>\n",
       "      <td>the Phillipines</td>\n",
       "      <td>1129</td>\n",
       "      <td>Yes</td>\n",
       "      <td>Not Yet</td>\n",
       "      <td>Lowered cases, Indonesian available. English/I...</td>\n",
       "      <td>, (and space?)</td>\n",
       "      <td>0</td>\n",
       "      <td>0</td>\n",
       "      <td>OCSEAN-YKA_20240324-WORDLIST_1TO1228.xlsx</td>\n",
       "      <td>OCSEAN-YKA_20240324-WORDLIST_1TO1228_PostQC.xlsx</td>\n",
       "      <td>6.898960, 122.087217</td>\n",
       "      <td>6.898960</td>\n",
       "      <td>122.087217</td>\n",
       "    </tr>\n",
       "  </tbody>\n",
       "</table>\n",
       "</div>"
      ],
      "text/plain": [
       "    Language_BasedOnMasterSheet ISO code (from Original_FileName)  \\\n",
       "117                   Umajamnon                                NA   \n",
       "118        Umbu-Ungu (Andelale)                                NA   \n",
       "119                       Waray                               WAR   \n",
       "120      Wersing Pantai Selatan                                NA   \n",
       "121                       Yakan                               YKA   \n",
       "\n",
       "              COUNTRY LocalWordsPresent QC_done  \\\n",
       "117   the Phillipines                NA      NA   \n",
       "118  Papua New Guinea                NA      NA   \n",
       "119   the Phillipines              1178     Yes   \n",
       "120         Indonesia                NA      NA   \n",
       "121   the Phillipines              1129     Yes   \n",
       "\n",
       "    AddedToTheUnitedLanguagesMasterFile  \\\n",
       "117                                  NA   \n",
       "118                                  NA   \n",
       "119                             Not yet   \n",
       "120                                  NA   \n",
       "121                             Not Yet   \n",
       "\n",
       "                                               Comment  \\\n",
       "117                                                 NA   \n",
       "118                                                 NA   \n",
       "119  English Tagalog available, no Indonesian. No s...   \n",
       "120                                                 NA   \n",
       "121  Lowered cases, Indonesian available. English/I...   \n",
       "\n",
       "                  Separator Mismatches_Eng Mismatches_IndoOrTaga  \\\n",
       "117                      NA             NA                    NA   \n",
       "118                      NA             NA                    NA   \n",
       "119  space? Didn’t separate              0                     1   \n",
       "120                      NA             NA                    NA   \n",
       "121          , (and space?)              0                     0   \n",
       "\n",
       "                             Original_FileName  \\\n",
       "117                                         NA   \n",
       "118                                         NA   \n",
       "119  OCSEAN-WAR_20240407-WORDLIST_1TO1228.xlsx   \n",
       "120                                         NA   \n",
       "121  OCSEAN-YKA_20240324-WORDLIST_1TO1228.xlsx   \n",
       "\n",
       "                                          QC_FileName  \\\n",
       "117                                                NA   \n",
       "118                                                NA   \n",
       "119  OCSEAN-WAR_20240407-WORDLIST_1TO1228_PostQC.xlsx   \n",
       "120                                                NA   \n",
       "121  OCSEAN-YKA_20240324-WORDLIST_1TO1228_PostQC.xlsx   \n",
       "\n",
       "                      Google Map Coordinate   latitude   longitude  \n",
       "117                                                NaN         NaN  \n",
       "118                                                NaN         NaN  \n",
       "119  12.312908225545875, 125.01703265863979  12.312908  125.017033  \n",
       "120                                                NaN         NaN  \n",
       "121                    6.898960, 122.087217   6.898960  122.087217  "
      ]
     },
     "execution_count": 6,
     "metadata": {},
     "output_type": "execute_result"
    }
   ],
   "source": [
    "# Apply parsing\n",
    "collectionsheet[['latitude', 'longitude']] = collectionsheet['Google Map Coordinate'].apply(lambda x: pd.Series(parse_location(x)))\n",
    "collectionsheet.tail()"
   ]
  },
  {
   "cell_type": "markdown",
   "id": "1df05313-4996-45e7-9c90-c3b32f9d2243",
   "metadata": {},
   "source": [
    "Our first serious code. Here we are going to add a new column called \"QCFileExists\" that is 'True' if we find a QC'd file, or 'False' if we don't.\n",
    "\n",
    "Note that if you uncomment the \"print\" statements, you will get a long description of which files exist. If we'd kept NA values, we'd have to treat them specially here.\n",
    "\n",
    "## Making a final list of languages to keep"
   ]
  },
  {
   "cell_type": "code",
   "execution_count": 151,
   "id": "8b5cb0c6-2c0b-43ef-920e-d6df014af96d",
   "metadata": {},
   "outputs": [
    {
     "name": "stdout",
     "output_type": "stream",
     "text": [
      "Found update for CleanedFiles-v1.1/edited-OCSEAN-ATZ_20240123-WORDLIST_1TO1228_PostQC.xlsx\n",
      "Found update for CleanedFiles-v1.1/edited-OCSEAN-ATM_20240323-WORDLIST_01TO1228partial(1)_PostQC.xlsx\n",
      "Found update for CleanedFiles-v1.1/edited-OCSEAN-CEB_20240325-WORDLIST_1TO1228_PostQC.xlsx\n",
      "Found update for CleanedFiles-v1.1/edited-OCSEAN-ENO_20220712-WORDLIST_PostQC.xlsx\n",
      "Found update for CleanedFiles-v1.1/edited-OCSEAN-HIL_20220813-WORDLIST_1TO1228_PostQC.xlsx\n",
      "Found update for CleanedFiles-v1.1/edited-OCSEAN-IVV_20240330-WORDLIST_ISABTANGEN_1TO1228_PostQC.xlsx\n",
      "Found update for CleanedFiles-v1.1/edited-OCSEAN-IVV_20240316-WORDLIST_ITBAYATEN_1TO1228.xlsx\n",
      "Found update for CleanedFiles-v1.1/edited-OCSEAN-KNE_20240405-WORDLIST_1TO1228_PostQC.xlsx\n",
      "Found update for CleanedFiles-v1.1/edited-OCSEAN-PAM_20240130-WORDLIST_1TO1228_PostQC.xlsx\n",
      "Found update for CleanedFiles-v1.1/edited-OCSEAN-KRJ_20240325-WORDLIST_1TO1228_PostQC.xlsx\n",
      "Found update for CleanedFiles-v1.1/edited-OCSEAN-MHP_20240620-WORDLIST_BURDAH_PostQC.xlsx\n",
      "Found update for CleanedFiles-v1.1/edited-OCSEAN-HVN_20240624-WORDLIST_RAIJUA_PostQC.xlsx\n",
      "Found update for CleanedFiles-v1.1/edited-OCSEAN-BKD_20220705-WORDLIST_PostQC.xlsx\n"
     ]
    }
   ],
   "source": [
    "collectionsheet[\"QCFileExists\"] = False\n",
    "collectionsheet[\"QCFileUpdated\"] = False\n",
    "collectionsheet[\"fullfile\"] = \"\"\n",
    "for id in collectionsheet.index:\n",
    "    f=collectionsheet.at[id,\"QC_FileName\"]\n",
    "    fedit=\"edited-\"+f\n",
    "    fullfile=os.path.join(\"CleanedFiles-v1.1\",fedit)\n",
    "    if(os.path.isfile(fullfile)):\n",
    "        print(\"Found update for\",fullfile)\n",
    "        collectionsheet.at[id,\"QCFileUpdated\"]=True\n",
    "        collectionsheet.at[id, \"QCFileExists\"]=True\n",
    "        collectionsheet.at[id,\"fullfile\"] =fullfile\n",
    "    else:\n",
    "        fullfile=os.path.join(\"CleanedFiles\",f)\n",
    "        if(os.path.isfile(fullfile)):\n",
    "            collectionsheet.at[id, \"QCFileExists\"]=True\n",
    "            collectionsheet.at[id,\"fullfile\"] =fullfile"
   ]
  },
  {
   "cell_type": "code",
   "execution_count": 152,
   "id": "365536b6-719a-4127-bf1c-81119403947b",
   "metadata": {},
   "outputs": [
    {
     "data": {
      "text/plain": [
       "QCFileUpdated\n",
       "False    109\n",
       "True      13\n",
       "Name: count, dtype: int64"
      ]
     },
     "execution_count": 152,
     "metadata": {},
     "output_type": "execute_result"
    }
   ],
   "source": [
    "collectionsheet[\"QCFileUpdated\"].value_counts()"
   ]
  },
  {
   "cell_type": "code",
   "execution_count": 153,
   "id": "536e4552-e02e-4154-8422-2ed8417be4df",
   "metadata": {},
   "outputs": [
    {
     "data": {
      "text/plain": [
       "COUNTRY\n",
       "the Phillipines     73\n",
       "Indonesia           48\n",
       "Papua New Guinea     1\n",
       "Name: count, dtype: int64"
      ]
     },
     "execution_count": 153,
     "metadata": {},
     "output_type": "execute_result"
    }
   ],
   "source": [
    "# How many from each country?\n",
    "collectionsheet[\"COUNTRY\"].value_counts()"
   ]
  },
  {
   "cell_type": "markdown",
   "id": "e1b46d28-62d5-4bb6-9248-e4bffa71203a",
   "metadata": {},
   "source": [
    "Now we do some checking. How many values do we get to Use, and how many are missing?"
   ]
  },
  {
   "cell_type": "code",
   "execution_count": 154,
   "id": "b450d4ab-da4e-47db-96ac-ce2d5b816229",
   "metadata": {},
   "outputs": [
    {
     "data": {
      "text/plain": [
       "QCFileExists\n",
       "True     74\n",
       "False    48\n",
       "Name: count, dtype: int64"
      ]
     },
     "execution_count": 154,
     "metadata": {},
     "output_type": "execute_result"
    }
   ],
   "source": [
    "collectionsheet[\"QCFileExists\"].value_counts()"
   ]
  },
  {
   "cell_type": "code",
   "execution_count": 155,
   "id": "502e1076-fbdd-4819-83d1-78df8caa1640",
   "metadata": {},
   "outputs": [
    {
     "data": {
      "text/plain": [
       "QC_FileName\n",
       "False    122\n",
       "Name: count, dtype: int64"
      ]
     },
     "execution_count": 155,
     "metadata": {},
     "output_type": "execute_result"
    }
   ],
   "source": [
    "# If we had kept na values, we could count them like this\n",
    "pd.isna(collectionsheet[\"QC_FileName\"]).value_counts()"
   ]
  },
  {
   "cell_type": "code",
   "execution_count": 156,
   "id": "acaf0da9-daba-428c-9ebb-19e7b32577ee",
   "metadata": {},
   "outputs": [
    {
     "data": {
      "text/html": [
       "<div>\n",
       "<style scoped>\n",
       "    .dataframe tbody tr th:only-of-type {\n",
       "        vertical-align: middle;\n",
       "    }\n",
       "\n",
       "    .dataframe tbody tr th {\n",
       "        vertical-align: top;\n",
       "    }\n",
       "\n",
       "    .dataframe thead th {\n",
       "        text-align: right;\n",
       "    }\n",
       "</style>\n",
       "<table border=\"1\" class=\"dataframe\">\n",
       "  <thead>\n",
       "    <tr style=\"text-align: right;\">\n",
       "      <th></th>\n",
       "      <th>Language_BasedOnMasterSheet</th>\n",
       "      <th>ISO code (from Original_FileName)</th>\n",
       "      <th>COUNTRY</th>\n",
       "      <th>LocalWordsPresent</th>\n",
       "      <th>QC_done</th>\n",
       "      <th>AddedToTheUnitedLanguagesMasterFile</th>\n",
       "      <th>Comment</th>\n",
       "      <th>Separator</th>\n",
       "      <th>Mismatches_Eng</th>\n",
       "      <th>Mismatches_IndoOrTaga</th>\n",
       "      <th>...</th>\n",
       "      <th>(101, QCFileUpdated)</th>\n",
       "      <th>(102, QCFileUpdated)</th>\n",
       "      <th>(108, QCFileUpdated)</th>\n",
       "      <th>(109, QCFileUpdated)</th>\n",
       "      <th>(111, QCFileUpdated)</th>\n",
       "      <th>(112, QCFileUpdated)</th>\n",
       "      <th>(113, QCFileUpdated)</th>\n",
       "      <th>(117, QCFileUpdated)</th>\n",
       "      <th>(120, QCFileUpdated)</th>\n",
       "      <th>fullfile</th>\n",
       "    </tr>\n",
       "  </thead>\n",
       "  <tbody>\n",
       "    <tr>\n",
       "      <th>4</th>\n",
       "      <td>Abui Takalelang</td>\n",
       "      <td>ABZ</td>\n",
       "      <td>Indonesia</td>\n",
       "      <td>293</td>\n",
       "      <td>NO</td>\n",
       "      <td>NO</td>\n",
       "      <td>There is no orthography. Only few hundred IPAs...</td>\n",
       "      <td></td>\n",
       "      <td>0</td>\n",
       "      <td>0</td>\n",
       "      <td>...</td>\n",
       "      <td>True</td>\n",
       "      <td>True</td>\n",
       "      <td>True</td>\n",
       "      <td>True</td>\n",
       "      <td>True</td>\n",
       "      <td>True</td>\n",
       "      <td>True</td>\n",
       "      <td>True</td>\n",
       "      <td>True</td>\n",
       "      <td></td>\n",
       "    </tr>\n",
       "    <tr>\n",
       "      <th>5</th>\n",
       "      <td>Abui Takalelang</td>\n",
       "      <td>NA</td>\n",
       "      <td>Indonesia</td>\n",
       "      <td>NA</td>\n",
       "      <td>NA</td>\n",
       "      <td>NA</td>\n",
       "      <td>NA</td>\n",
       "      <td>NA</td>\n",
       "      <td>NA</td>\n",
       "      <td>NA</td>\n",
       "      <td>...</td>\n",
       "      <td>True</td>\n",
       "      <td>True</td>\n",
       "      <td>True</td>\n",
       "      <td>True</td>\n",
       "      <td>True</td>\n",
       "      <td>True</td>\n",
       "      <td>True</td>\n",
       "      <td>True</td>\n",
       "      <td>True</td>\n",
       "      <td></td>\n",
       "    </tr>\n",
       "    <tr>\n",
       "      <th>6</th>\n",
       "      <td>Abui Takalelang</td>\n",
       "      <td>NA</td>\n",
       "      <td>Indonesia</td>\n",
       "      <td>NA</td>\n",
       "      <td>NA</td>\n",
       "      <td>NA</td>\n",
       "      <td>NA</td>\n",
       "      <td>NA</td>\n",
       "      <td>NA</td>\n",
       "      <td>NA</td>\n",
       "      <td>...</td>\n",
       "      <td>True</td>\n",
       "      <td>True</td>\n",
       "      <td>True</td>\n",
       "      <td>True</td>\n",
       "      <td>True</td>\n",
       "      <td>True</td>\n",
       "      <td>True</td>\n",
       "      <td>True</td>\n",
       "      <td>True</td>\n",
       "      <td></td>\n",
       "    </tr>\n",
       "    <tr>\n",
       "      <th>8</th>\n",
       "      <td>Adang</td>\n",
       "      <td>NA</td>\n",
       "      <td>Indonesia</td>\n",
       "      <td>NA</td>\n",
       "      <td>NA</td>\n",
       "      <td>NA</td>\n",
       "      <td>NA</td>\n",
       "      <td>NA</td>\n",
       "      <td>NA</td>\n",
       "      <td>NA</td>\n",
       "      <td>...</td>\n",
       "      <td>True</td>\n",
       "      <td>True</td>\n",
       "      <td>True</td>\n",
       "      <td>True</td>\n",
       "      <td>True</td>\n",
       "      <td>True</td>\n",
       "      <td>True</td>\n",
       "      <td>True</td>\n",
       "      <td>True</td>\n",
       "      <td></td>\n",
       "    </tr>\n",
       "    <tr>\n",
       "      <th>9</th>\n",
       "      <td>Agta</td>\n",
       "      <td>AGT</td>\n",
       "      <td>the Phillipines</td>\n",
       "      <td>952</td>\n",
       "      <td>Yes, but not ideal</td>\n",
       "      <td>Yes</td>\n",
       "      <td>There seems to be an issue with the removal of...</td>\n",
       "      <td>, and /</td>\n",
       "      <td>13</td>\n",
       "      <td>65</td>\n",
       "      <td>...</td>\n",
       "      <td>True</td>\n",
       "      <td>True</td>\n",
       "      <td>True</td>\n",
       "      <td>True</td>\n",
       "      <td>True</td>\n",
       "      <td>True</td>\n",
       "      <td>True</td>\n",
       "      <td>True</td>\n",
       "      <td>True</td>\n",
       "      <td></td>\n",
       "    </tr>\n",
       "  </tbody>\n",
       "</table>\n",
       "<p>5 rows × 93 columns</p>\n",
       "</div>"
      ],
      "text/plain": [
       "  Language_BasedOnMasterSheet ISO code (from Original_FileName)  \\\n",
       "4             Abui Takalelang                               ABZ   \n",
       "5             Abui Takalelang                                NA   \n",
       "6             Abui Takalelang                                NA   \n",
       "8                       Adang                                NA   \n",
       "9                        Agta                               AGT   \n",
       "\n",
       "           COUNTRY LocalWordsPresent             QC_done  \\\n",
       "4        Indonesia               293                  NO   \n",
       "5        Indonesia                NA                  NA   \n",
       "6        Indonesia                NA                  NA   \n",
       "8        Indonesia                NA                  NA   \n",
       "9  the Phillipines               952  Yes, but not ideal   \n",
       "\n",
       "  AddedToTheUnitedLanguagesMasterFile  \\\n",
       "4                                  NO   \n",
       "5                                  NA   \n",
       "6                                  NA   \n",
       "8                                  NA   \n",
       "9                                 Yes   \n",
       "\n",
       "                                             Comment Separator Mismatches_Eng  \\\n",
       "4  There is no orthography. Only few hundred IPAs...                        0   \n",
       "5                                                 NA        NA             NA   \n",
       "6                                                 NA        NA             NA   \n",
       "8                                                 NA        NA             NA   \n",
       "9  There seems to be an issue with the removal of...   , and /             13   \n",
       "\n",
       "  Mismatches_IndoOrTaga  ... (101, QCFileUpdated) (102, QCFileUpdated)  \\\n",
       "4                     0  ...                 True                 True   \n",
       "5                    NA  ...                 True                 True   \n",
       "6                    NA  ...                 True                 True   \n",
       "8                    NA  ...                 True                 True   \n",
       "9                    65  ...                 True                 True   \n",
       "\n",
       "  (108, QCFileUpdated)  (109, QCFileUpdated)  (111, QCFileUpdated)  \\\n",
       "4                 True                  True                  True   \n",
       "5                 True                  True                  True   \n",
       "6                 True                  True                  True   \n",
       "8                 True                  True                  True   \n",
       "9                 True                  True                  True   \n",
       "\n",
       "   (112, QCFileUpdated)  (113, QCFileUpdated)  (117, QCFileUpdated)  \\\n",
       "4                  True                  True                  True   \n",
       "5                  True                  True                  True   \n",
       "6                  True                  True                  True   \n",
       "8                  True                  True                  True   \n",
       "9                  True                  True                  True   \n",
       "\n",
       "   (120, QCFileUpdated)  fullfile  \n",
       "4                  True            \n",
       "5                  True            \n",
       "6                  True            \n",
       "8                  True            \n",
       "9                  True            \n",
       "\n",
       "[5 rows x 93 columns]"
      ]
     },
     "execution_count": 156,
     "metadata": {},
     "output_type": "execute_result"
    }
   ],
   "source": [
    "# This is a dataframe of the languages we cannot find a file for\n",
    "brokenrecords=(collectionsheet[\"QCFileExists\"]==False)\n",
    "brokensheet=collectionsheet.loc[brokenrecords,:]\n",
    "brokensheet.head()"
   ]
  },
  {
   "cell_type": "code",
   "execution_count": 157,
   "id": "9d37d475-6313-4ef4-a98b-bbfa39047dd7",
   "metadata": {},
   "outputs": [
    {
     "data": {
      "text/html": [
       "<div>\n",
       "<style scoped>\n",
       "    .dataframe tbody tr th:only-of-type {\n",
       "        vertical-align: middle;\n",
       "    }\n",
       "\n",
       "    .dataframe tbody tr th {\n",
       "        vertical-align: top;\n",
       "    }\n",
       "\n",
       "    .dataframe thead th {\n",
       "        text-align: right;\n",
       "    }\n",
       "</style>\n",
       "<table border=\"1\" class=\"dataframe\">\n",
       "  <thead>\n",
       "    <tr style=\"text-align: right;\">\n",
       "      <th></th>\n",
       "      <th>Language_BasedOnMasterSheet</th>\n",
       "      <th>ISO code (from Original_FileName)</th>\n",
       "      <th>COUNTRY</th>\n",
       "      <th>LocalWordsPresent</th>\n",
       "      <th>QC_done</th>\n",
       "      <th>AddedToTheUnitedLanguagesMasterFile</th>\n",
       "      <th>Comment</th>\n",
       "      <th>Separator</th>\n",
       "      <th>Mismatches_Eng</th>\n",
       "      <th>Mismatches_IndoOrTaga</th>\n",
       "      <th>...</th>\n",
       "      <th>(101, QCFileUpdated)</th>\n",
       "      <th>(102, QCFileUpdated)</th>\n",
       "      <th>(108, QCFileUpdated)</th>\n",
       "      <th>(109, QCFileUpdated)</th>\n",
       "      <th>(111, QCFileUpdated)</th>\n",
       "      <th>(112, QCFileUpdated)</th>\n",
       "      <th>(113, QCFileUpdated)</th>\n",
       "      <th>(117, QCFileUpdated)</th>\n",
       "      <th>(120, QCFileUpdated)</th>\n",
       "      <th>fullfile</th>\n",
       "    </tr>\n",
       "  </thead>\n",
       "  <tbody>\n",
       "    <tr>\n",
       "      <th>0</th>\n",
       "      <td>Abui Bunggeta</td>\n",
       "      <td>ABZ</td>\n",
       "      <td>Indonesia</td>\n",
       "      <td>604</td>\n",
       "      <td>Yes</td>\n",
       "      <td>Yes</td>\n",
       "      <td>Some English and or Indonesian words in this l...</td>\n",
       "      <td>, and ; and ~ (?). Only used , and ;</td>\n",
       "      <td>41</td>\n",
       "      <td>87</td>\n",
       "      <td>...</td>\n",
       "      <td>True</td>\n",
       "      <td>True</td>\n",
       "      <td>True</td>\n",
       "      <td>True</td>\n",
       "      <td>True</td>\n",
       "      <td>True</td>\n",
       "      <td>True</td>\n",
       "      <td>True</td>\n",
       "      <td>True</td>\n",
       "      <td>CleanedFiles/OCSEAN-ABZ_20240605-BUNGGETA_WORD...</td>\n",
       "    </tr>\n",
       "    <tr>\n",
       "      <th>1</th>\n",
       "      <td>Abui Kilakawada</td>\n",
       "      <td>ABZ</td>\n",
       "      <td>Indonesia</td>\n",
       "      <td>604</td>\n",
       "      <td>Yes</td>\n",
       "      <td>Yes</td>\n",
       "      <td>English and English Elicitation notes complete...</td>\n",
       "      <td>, and ; and ~ (?). Only used , and ;</td>\n",
       "      <td>41</td>\n",
       "      <td>87</td>\n",
       "      <td>...</td>\n",
       "      <td>True</td>\n",
       "      <td>True</td>\n",
       "      <td>True</td>\n",
       "      <td>True</td>\n",
       "      <td>True</td>\n",
       "      <td>True</td>\n",
       "      <td>True</td>\n",
       "      <td>True</td>\n",
       "      <td>True</td>\n",
       "      <td>CleanedFiles/OCSEAN-ABZ_20240606-KILAKAWADA_WO...</td>\n",
       "    </tr>\n",
       "    <tr>\n",
       "      <th>2</th>\n",
       "      <td>Abui Mobyetang</td>\n",
       "      <td>ABZ</td>\n",
       "      <td>Indonesia</td>\n",
       "      <td>602</td>\n",
       "      <td>Yes</td>\n",
       "      <td>Yes</td>\n",
       "      <td>English Elicitation = English actually. Some E...</td>\n",
       "      <td>, and ; and ~ (?). Only used , and ;</td>\n",
       "      <td>41</td>\n",
       "      <td>87</td>\n",
       "      <td>...</td>\n",
       "      <td>True</td>\n",
       "      <td>True</td>\n",
       "      <td>True</td>\n",
       "      <td>True</td>\n",
       "      <td>True</td>\n",
       "      <td>True</td>\n",
       "      <td>True</td>\n",
       "      <td>True</td>\n",
       "      <td>True</td>\n",
       "      <td>CleanedFiles/OCSEAN-ABZ_20240610-MOBYETANG_WOR...</td>\n",
       "    </tr>\n",
       "    <tr>\n",
       "      <th>3</th>\n",
       "      <td>Abui Pelman</td>\n",
       "      <td>ABZ</td>\n",
       "      <td>Indonesia</td>\n",
       "      <td>602</td>\n",
       "      <td>Yes</td>\n",
       "      <td>Yes</td>\n",
       "      <td>English Elicitation = English actually. Some E...</td>\n",
       "      <td>, and ; and ~ (?). Only used , and ;</td>\n",
       "      <td>41</td>\n",
       "      <td>87</td>\n",
       "      <td>...</td>\n",
       "      <td>True</td>\n",
       "      <td>True</td>\n",
       "      <td>True</td>\n",
       "      <td>True</td>\n",
       "      <td>True</td>\n",
       "      <td>True</td>\n",
       "      <td>True</td>\n",
       "      <td>True</td>\n",
       "      <td>True</td>\n",
       "      <td>CleanedFiles/OCSEAN-ABZ_20240610-PELMAN_WORDLI...</td>\n",
       "    </tr>\n",
       "    <tr>\n",
       "      <th>7</th>\n",
       "      <td>Adang</td>\n",
       "      <td>ADN</td>\n",
       "      <td>Indonesia</td>\n",
       "      <td>234</td>\n",
       "      <td>Yes</td>\n",
       "      <td>Yes</td>\n",
       "      <td>The formatting of indonesian words in this lan...</td>\n",
       "      <td>,</td>\n",
       "      <td>NA</td>\n",
       "      <td>67</td>\n",
       "      <td>...</td>\n",
       "      <td>True</td>\n",
       "      <td>True</td>\n",
       "      <td>True</td>\n",
       "      <td>True</td>\n",
       "      <td>True</td>\n",
       "      <td>True</td>\n",
       "      <td>True</td>\n",
       "      <td>True</td>\n",
       "      <td>True</td>\n",
       "      <td>CleanedFiles/OCSEAN-ADN_20230427-WORDLIST_Post...</td>\n",
       "    </tr>\n",
       "  </tbody>\n",
       "</table>\n",
       "<p>5 rows × 93 columns</p>\n",
       "</div>"
      ],
      "text/plain": [
       "  Language_BasedOnMasterSheet ISO code (from Original_FileName)    COUNTRY  \\\n",
       "0               Abui Bunggeta                               ABZ  Indonesia   \n",
       "1             Abui Kilakawada                               ABZ  Indonesia   \n",
       "2              Abui Mobyetang                               ABZ  Indonesia   \n",
       "3                 Abui Pelman                               ABZ  Indonesia   \n",
       "7                       Adang                               ADN  Indonesia   \n",
       "\n",
       "  LocalWordsPresent QC_done AddedToTheUnitedLanguagesMasterFile  \\\n",
       "0               604     Yes                                 Yes   \n",
       "1               604     Yes                                 Yes   \n",
       "2               602     Yes                                 Yes   \n",
       "3               602     Yes                                 Yes   \n",
       "7               234     Yes                                 Yes   \n",
       "\n",
       "                                             Comment  \\\n",
       "0  Some English and or Indonesian words in this l...   \n",
       "1  English and English Elicitation notes complete...   \n",
       "2  English Elicitation = English actually. Some E...   \n",
       "3  English Elicitation = English actually. Some E...   \n",
       "7  The formatting of indonesian words in this lan...   \n",
       "\n",
       "                              Separator Mismatches_Eng Mismatches_IndoOrTaga  \\\n",
       "0  , and ; and ~ (?). Only used , and ;             41                    87   \n",
       "1  , and ; and ~ (?). Only used , and ;             41                    87   \n",
       "2  , and ; and ~ (?). Only used , and ;             41                    87   \n",
       "3  , and ; and ~ (?). Only used , and ;             41                    87   \n",
       "7                                     ,             NA                    67   \n",
       "\n",
       "   ... (101, QCFileUpdated) (102, QCFileUpdated) (108, QCFileUpdated)  \\\n",
       "0  ...                 True                 True                 True   \n",
       "1  ...                 True                 True                 True   \n",
       "2  ...                 True                 True                 True   \n",
       "3  ...                 True                 True                 True   \n",
       "7  ...                 True                 True                 True   \n",
       "\n",
       "   (109, QCFileUpdated)  (111, QCFileUpdated)  (112, QCFileUpdated)  \\\n",
       "0                  True                  True                  True   \n",
       "1                  True                  True                  True   \n",
       "2                  True                  True                  True   \n",
       "3                  True                  True                  True   \n",
       "7                  True                  True                  True   \n",
       "\n",
       "   (113, QCFileUpdated)  (117, QCFileUpdated)  (120, QCFileUpdated)  \\\n",
       "0                  True                  True                  True   \n",
       "1                  True                  True                  True   \n",
       "2                  True                  True                  True   \n",
       "3                  True                  True                  True   \n",
       "7                  True                  True                  True   \n",
       "\n",
       "                                            fullfile  \n",
       "0  CleanedFiles/OCSEAN-ABZ_20240605-BUNGGETA_WORD...  \n",
       "1  CleanedFiles/OCSEAN-ABZ_20240606-KILAKAWADA_WO...  \n",
       "2  CleanedFiles/OCSEAN-ABZ_20240610-MOBYETANG_WOR...  \n",
       "3  CleanedFiles/OCSEAN-ABZ_20240610-PELMAN_WORDLI...  \n",
       "7  CleanedFiles/OCSEAN-ADN_20230427-WORDLIST_Post...  \n",
       "\n",
       "[5 rows x 93 columns]"
      ]
     },
     "execution_count": 157,
     "metadata": {},
     "output_type": "execute_result"
    }
   ],
   "source": [
    "# This is a dataframe of the languages we CAN find a file for\n",
    "cleansheet=collectionsheet.copy().loc[(collectionsheet[\"QCFileExists\"]==True),:]\n",
    "cleansheet[\"Language_BasedOnMasterSheet\"] = cleansheet[\"Language_BasedOnMasterSheet\"].apply(lambda x: x.strip())\n",
    "cleansheet.head()"
   ]
  },
  {
   "cell_type": "markdown",
   "id": "789b34ca-256d-41bd-ad7a-3e5a6e474ae0",
   "metadata": {},
   "source": [
    "### Reading all of the individual files\n",
    "\n",
    "We have made a list of files that exist, so now we will load each one.\n",
    "\n",
    "We are using 'dictionaries' here. These are lists that you access not in a \"spreadsheet\" format, but by name. We don't need to have them be the same \"shape\" which is very useful in this case, as we don't want to assume each spreadsheet has th same columns.\n",
    "\n",
    "Because of this, we are particularly interested in which columns are present in a dataset, so we'll list those in a special dictionary."
   ]
  },
  {
   "cell_type": "code",
   "execution_count": 158,
   "id": "9e43d161-75e8-4612-a9c0-7b3624b40281",
   "metadata": {},
   "outputs": [],
   "source": [
    "collection = {}\n",
    "colnames={}\n",
    "for id in cleansheet.index:\n",
    "    ## If there is an error its helpful to print which files we are reading when the error happens\n",
    "    # print(\"... Reading\",id,\": \",f)\n",
    "    f=cleansheet.at[id,\"QC_FileName\"]\n",
    "    langname = cleansheet.at[id,\"Language_BasedOnMasterSheet\"]\n",
    "    collection[langname]=pd.read_excel(cleansheet.at[id,\"fullfile\"])\n",
    "    colnames[langname]=list(collection[langname].columns.values)\n",
    "    # print(\"Read\",id,\": \",f,\"successfully\")"
   ]
  },
  {
   "cell_type": "markdown",
   "id": "374f66ed-6add-482a-aa2d-3065b755a725",
   "metadata": {},
   "source": [
    "We will now make a new column in the dataframe based on whether there is a column called 'IPA'.\n",
    "\n",
    "This is a tricky bit of code. We have to do two loops, one over each file (the 'keys' of colnames) and again over all of the actual names found to check whether any are 'IPA'."
   ]
  },
  {
   "cell_type": "code",
   "execution_count": 160,
   "id": "17a50714-b70a-4e55-aade-7671b01264e6",
   "metadata": {},
   "outputs": [],
   "source": [
    "cleansheet.loc[:,\"Has_IPA\"] = [(any(x == 'IPA' for x in colnames[a])) for a in colnames.keys()]"
   ]
  },
  {
   "cell_type": "code",
   "execution_count": 161,
   "id": "abfe4862-70e2-4aee-b358-a5550eb8c8cd",
   "metadata": {},
   "outputs": [],
   "source": [
    "cleansheet.loc[:,\"Has_English\"] = [(any(x == 'English' for x in colnames[a])) for a in colnames.keys()]"
   ]
  },
  {
   "cell_type": "code",
   "execution_count": 162,
   "id": "561e6c18-9555-4e4b-be57-c87150478991",
   "metadata": {},
   "outputs": [],
   "source": [
    "cleansheet.loc[:,\"Keep\"] = [(any(x == 'English' for x in colnames[a])) for a in colnames.keys()]"
   ]
  },
  {
   "cell_type": "code",
   "execution_count": 163,
   "id": "bcf7b816-7a76-475b-a54b-7240ac499b13",
   "metadata": {},
   "outputs": [
    {
     "data": {
      "text/plain": [
       "Has_IPA\n",
       "False    65\n",
       "True      9\n",
       "Name: count, dtype: int64"
      ]
     },
     "execution_count": 163,
     "metadata": {},
     "output_type": "execute_result"
    }
   ],
   "source": [
    "cleansheet[\"Has_IPA\"].value_counts()"
   ]
  },
  {
   "cell_type": "code",
   "execution_count": 164,
   "id": "f41b9488-68b6-4663-94b1-a478a4cfa7b0",
   "metadata": {},
   "outputs": [
    {
     "data": {
      "text/plain": [
       "Has_English\n",
       "True     68\n",
       "False     6\n",
       "Name: count, dtype: int64"
      ]
     },
     "execution_count": 164,
     "metadata": {},
     "output_type": "execute_result"
    }
   ],
   "source": [
    "cleansheet[\"Has_English\"].value_counts()"
   ]
  },
  {
   "cell_type": "markdown",
   "id": "cbc208c5-ef21-4d78-b376-9a6d59369fba",
   "metadata": {},
   "source": [
    "We'll make two sheets, based on whether the spreadsheet has an 'English' column."
   ]
  },
  {
   "cell_type": "code",
   "execution_count": 165,
   "id": "57477563-264d-4797-ae77-7ef60de913ea",
   "metadata": {},
   "outputs": [
    {
     "data": {
      "text/plain": [
       "7            Adang\n",
       "14         Alurung\n",
       "65           Kelon\n",
       "67            Klon\n",
       "74           Mauta\n",
       "85    Reta Ternate\n",
       "Name: Language_BasedOnMasterSheet, dtype: object"
      ]
     },
     "execution_count": 165,
     "metadata": {},
     "output_type": "execute_result"
    }
   ],
   "source": [
    "noenglishsheet=cleansheet.loc[~cleansheet[\"Has_English\"],:]\n",
    "noenglishsheet[\"Language_BasedOnMasterSheet\"]"
   ]
  },
  {
   "cell_type": "code",
   "execution_count": 166,
   "id": "a212a486-d232-4c79-9c54-68d811a8f3dd",
   "metadata": {},
   "outputs": [
    {
     "data": {
      "text/plain": [
       "0        Abui Bunggeta\n",
       "1      Abui Kilakawada\n",
       "2       Abui Mobyetang\n",
       "3          Abui Pelman\n",
       "10       Agusan Manobo\n",
       "            ...       \n",
       "111             Tausug\n",
       "112              Tboli\n",
       "116           Uab Meto\n",
       "119              Waray\n",
       "121              Yakan\n",
       "Name: Language_BasedOnMasterSheet, Length: 68, dtype: object"
      ]
     },
     "execution_count": 166,
     "metadata": {},
     "output_type": "execute_result"
    }
   ],
   "source": [
    "englishsheet=cleansheet.copy().loc[cleansheet[\"Has_English\"],:]\n",
    "englishsheet[\"Language_BasedOnMasterSheet\"]"
   ]
  },
  {
   "cell_type": "markdown",
   "id": "d1b18a3a-bb03-442d-be91-3f0d99a59162",
   "metadata": {},
   "source": [
    "Lets check that all of our \"good\" data has English as a column?"
   ]
  },
  {
   "cell_type": "code",
   "execution_count": 167,
   "id": "c59b5266-e778-4737-880a-e6a6e637e023",
   "metadata": {},
   "outputs": [
    {
     "data": {
      "text/html": [
       "<div>\n",
       "<style scoped>\n",
       "    .dataframe tbody tr th:only-of-type {\n",
       "        vertical-align: middle;\n",
       "    }\n",
       "\n",
       "    .dataframe tbody tr th {\n",
       "        vertical-align: top;\n",
       "    }\n",
       "\n",
       "    .dataframe thead th {\n",
       "        text-align: right;\n",
       "    }\n",
       "</style>\n",
       "<table border=\"1\" class=\"dataframe\">\n",
       "  <thead>\n",
       "    <tr style=\"text-align: right;\">\n",
       "      <th></th>\n",
       "      <th>English</th>\n",
       "      <th>Tagalog</th>\n",
       "      <th>Hiligaynon</th>\n",
       "      <th>IPA</th>\n",
       "    </tr>\n",
       "  </thead>\n",
       "  <tbody>\n",
       "    <tr>\n",
       "      <th>0</th>\n",
       "      <td>world</td>\n",
       "      <td>mundo</td>\n",
       "      <td>kalibutan</td>\n",
       "      <td>ka.li.bu.tan</td>\n",
       "    </tr>\n",
       "    <tr>\n",
       "      <th>1</th>\n",
       "      <td>Earth</td>\n",
       "      <td>daigdig</td>\n",
       "      <td>kalibutan</td>\n",
       "      <td>ka.li.bu.tan</td>\n",
       "    </tr>\n",
       "    <tr>\n",
       "      <th>2</th>\n",
       "      <td>land, earth, soil</td>\n",
       "      <td>lupa'</td>\n",
       "      <td>duta</td>\n",
       "      <td>du.ta, bɑ.las</td>\n",
       "    </tr>\n",
       "    <tr>\n",
       "      <th>3</th>\n",
       "      <td>land, earth, soil</td>\n",
       "      <td>lupa'</td>\n",
       "      <td>balas</td>\n",
       "      <td>du.ta, bɑ.las</td>\n",
       "    </tr>\n",
       "    <tr>\n",
       "      <th>4</th>\n",
       "      <td>dust, fine earth</td>\n",
       "      <td>alikabok</td>\n",
       "      <td>yab-ok</td>\n",
       "      <td>yab.ɔʔ</td>\n",
       "    </tr>\n",
       "    <tr>\n",
       "      <th>...</th>\n",
       "      <td>...</td>\n",
       "      <td>...</td>\n",
       "      <td>...</td>\n",
       "      <td>...</td>\n",
       "    </tr>\n",
       "    <tr>\n",
       "      <th>1272</th>\n",
       "      <td>imam</td>\n",
       "      <td>imam</td>\n",
       "      <td>imam</td>\n",
       "      <td>NaN</td>\n",
       "    </tr>\n",
       "    <tr>\n",
       "      <th>1273</th>\n",
       "      <td>bless</td>\n",
       "      <td>pagmano</td>\n",
       "      <td>bendisyon</td>\n",
       "      <td>NaN</td>\n",
       "    </tr>\n",
       "    <tr>\n",
       "      <th>1274</th>\n",
       "      <td>redeem</td>\n",
       "      <td>tubos</td>\n",
       "      <td>NaN</td>\n",
       "      <td>NaN</td>\n",
       "    </tr>\n",
       "    <tr>\n",
       "      <th>1275</th>\n",
       "      <td>curse</td>\n",
       "      <td>isumpa</td>\n",
       "      <td>sumpa</td>\n",
       "      <td>NaN</td>\n",
       "    </tr>\n",
       "    <tr>\n",
       "      <th>1276</th>\n",
       "      <td>sorcerer, witch</td>\n",
       "      <td>mangkukulam</td>\n",
       "      <td>manughiwit</td>\n",
       "      <td>NaN</td>\n",
       "    </tr>\n",
       "  </tbody>\n",
       "</table>\n",
       "<p>1277 rows × 4 columns</p>\n",
       "</div>"
      ],
      "text/plain": [
       "                English      Tagalog  Hiligaynon            IPA\n",
       "0                 world        mundo   kalibutan   ka.li.bu.tan\n",
       "1                 Earth      daigdig   kalibutan   ka.li.bu.tan\n",
       "2     land, earth, soil        lupa'        duta  du.ta, bɑ.las\n",
       "3     land, earth, soil        lupa'       balas  du.ta, bɑ.las\n",
       "4      dust, fine earth     alikabok      yab-ok         yab.ɔʔ\n",
       "...                 ...          ...         ...            ...\n",
       "1272               imam         imam        imam            NaN\n",
       "1273              bless      pagmano   bendisyon            NaN\n",
       "1274             redeem        tubos         NaN            NaN\n",
       "1275              curse       isumpa       sumpa            NaN\n",
       "1276    sorcerer, witch  mangkukulam  manughiwit            NaN\n",
       "\n",
       "[1277 rows x 4 columns]"
      ]
     },
     "execution_count": 167,
     "metadata": {},
     "output_type": "execute_result"
    }
   ],
   "source": [
    "collection['Hiligaynon_20220813']"
   ]
  },
  {
   "cell_type": "markdown",
   "id": "60821120-1ce6-461b-a83b-3bff69a3b5cd",
   "metadata": {},
   "source": [
    "It does, so we can now start with the core goal: a 'join' operation on the data.\n",
    "\n",
    "## Merging the datasets\n",
    "\n",
    "We will merge the closest column to our 'Language_BasedOnMasterSheet' language name, which we will call 'Language_AsInFile'.  language name 'English' as a key."
   ]
  },
  {
   "cell_type": "code",
   "execution_count": 168,
   "id": "289d52c8-2612-4a26-9a97-834a7045c787",
   "metadata": {},
   "outputs": [
    {
     "name": "stdout",
     "output_type": "stream",
     "text": [
      "Abui_Bunggeta\n",
      "Abui_Kilakawada\n",
      "Abui_Mobyetang\n",
      "Abui_Pelman\n",
      "Agusan_Manobo\n",
      "Agutaynen\n",
      "Akeanon\n",
      "Arta\n",
      "Ata\n",
      "Ati\n",
      "Ba_a\n",
      "Balangao\n",
      "Bali_Aga\n",
      "Balinese\n",
      "Batak\n",
      "Bicolano\n",
      "Boholano\n",
      "Bolinao\n",
      "Bontoc\n",
      "Buhid\n",
      "Bulus\n",
      "Chabacano_Caviteno\n",
      "Cuyunon\n",
      "Dela\n",
      "Enggano\n",
      "Gaddang\n",
      "Hanunuo\n",
      "Hattang_Kaye\n",
      "Hiligaynon\n",
      "Hiligaynon_20240802\n",
      "Ilognon\n",
      "Ilokano\n",
      "Inabaknon\n",
      "Ivatan_Isabtangen\n",
      "Ivatan_Ichbayatan\n",
      "Kalinga\n",
      "Kamayo\n",
      "Kankana_ey\n",
      "Kapampangan\n",
      "Kinaray_a\n",
      "Kolibogon\n",
      "Kupang Malay\n",
      "Kusa\n",
      "Loloan_Malay\n",
      "Manea\n",
      "Manubo_Tasaday\n",
      "Mawes_Wares\n",
      "Mawesdai\n",
      "Meranaw\n",
      "Minamanwa\n",
      "Molbog\n",
      "Obo\n",
      "Palawano\n",
      "Pangasinan\n",
      "Sabu_Raijua\n",
      "Sabu_Seba\n",
      "Sangil\n",
      "Sinama_Banguingui\n",
      "Sinama_Sitangkai\n",
      "Sinama_Tabawan\n",
      "Tagakaulo\n",
      "Tagbanwa_Central\n",
      "Talaandig\n",
      "Tausug\n",
      "Tboli\n",
      "Uab_Meto\n",
      "Waray\n",
      "Yakan\n"
     ]
    }
   ],
   "source": [
    "from thefuzz import process\n",
    "englishsheet[\"Language_AsInFile\"]=\"\"\n",
    "for id in englishsheet.index:\n",
    "    language_name=englishsheet.at[id,\"Language_BasedOnMasterSheet\"]\n",
    "    englishsheet.at[id,\"Language_AsInFile\"]=process.extractOne(language_name, colnames[language_name])[0]\n",
    "for x in englishsheet[\"Language_AsInFile\"]:\n",
    "    print(x)"
   ]
  },
  {
   "cell_type": "code",
   "execution_count": 169,
   "id": "91906de9-66e2-403c-9bc0-ce26f5c49b71",
   "metadata": {},
   "outputs": [],
   "source": [
    "joinable_collection = {} # This is an empty dictionary: we'll populate it from the collection dictionary\n",
    "\n",
    "# Now iterate over only those languages that we have data for:\n",
    "for id in englishsheet.index:\n",
    "#    print(language_name,englishsheet.at[id,\"Language_AsInFile\"],englishsheet.at[id,\"QC_FileName\"])\n",
    "    language_name=englishsheet.at[id,\"Language_BasedOnMasterSheet\"]\n",
    "    # First, get just the columns we want. Note we have to copy the dataframe\n",
    "    simple_data=collection[language_name].copy()[[\"English\",englishsheet.at[id,\"Language_AsInFile\"]]] \n",
    "    # Add the Language as a new column\n",
    "    simple_data[\"Language\"]=englishsheet.at[id,\"Language_AsInFile\"]\n",
    "    # Rename the columns to English\n",
    "    simple_data = simple_data.rename(columns={englishsheet.at[id,\"Language_AsInFile\"]: 'Word', \"English\": 'Concept'})\n",
    "    # Remove any rows that have NA as the in the \"Concept\" or \"Word\" (was the original language)\n",
    "    simple_data=simple_data.dropna()\n",
    "    joinable_collection[language_name]=simple_data # Add the new data frame to the dictionary of all data frames"
   ]
  },
  {
   "cell_type": "code",
   "execution_count": 170,
   "id": "52812806-ea33-49a1-8eac-a82363edab87",
   "metadata": {},
   "outputs": [],
   "source": [
    "joined_data = pd.concat(joinable_collection.values(), axis=0, ignore_index=True)"
   ]
  },
  {
   "cell_type": "code",
   "execution_count": 171,
   "id": "64c831b3-c0a6-454f-b61a-3c3fd779a663",
   "metadata": {},
   "outputs": [],
   "source": [
    "joined_data[\"Concept\"] = joined_data[\"Concept\"].str.lower()"
   ]
  },
  {
   "cell_type": "code",
   "execution_count": 172,
   "id": "a693c42e-837b-4eac-a68f-915e6da6fc2b",
   "metadata": {},
   "outputs": [
    {
     "data": {
      "text/html": [
       "<div>\n",
       "<style scoped>\n",
       "    .dataframe tbody tr th:only-of-type {\n",
       "        vertical-align: middle;\n",
       "    }\n",
       "\n",
       "    .dataframe tbody tr th {\n",
       "        vertical-align: top;\n",
       "    }\n",
       "\n",
       "    .dataframe thead th {\n",
       "        text-align: right;\n",
       "    }\n",
       "</style>\n",
       "<table border=\"1\" class=\"dataframe\">\n",
       "  <thead>\n",
       "    <tr style=\"text-align: right;\">\n",
       "      <th></th>\n",
       "      <th>Concept</th>\n",
       "      <th>Word</th>\n",
       "      <th>Language</th>\n",
       "    </tr>\n",
       "  </thead>\n",
       "  <tbody>\n",
       "    <tr>\n",
       "      <th>36291</th>\n",
       "      <td>world</td>\n",
       "      <td>mundo</td>\n",
       "      <td>Ivatan_Ichbayatan</td>\n",
       "    </tr>\n",
       "    <tr>\n",
       "      <th>36292</th>\n",
       "      <td>earth</td>\n",
       "      <td>mundo</td>\n",
       "      <td>Ivatan_Ichbayatan</td>\n",
       "    </tr>\n",
       "    <tr>\n",
       "      <th>36293</th>\n",
       "      <td>land, earth, soil</td>\n",
       "      <td>tana</td>\n",
       "      <td>Ivatan_Ichbayatan</td>\n",
       "    </tr>\n",
       "    <tr>\n",
       "      <th>36294</th>\n",
       "      <td>land, earth, soil</td>\n",
       "      <td>xuta</td>\n",
       "      <td>Ivatan_Ichbayatan</td>\n",
       "    </tr>\n",
       "    <tr>\n",
       "      <th>36295</th>\n",
       "      <td>dust, fine earth</td>\n",
       "      <td>kexbek</td>\n",
       "      <td>Ivatan_Ichbayatan</td>\n",
       "    </tr>\n",
       "    <tr>\n",
       "      <th>...</th>\n",
       "      <td>...</td>\n",
       "      <td>...</td>\n",
       "      <td>...</td>\n",
       "    </tr>\n",
       "    <tr>\n",
       "      <th>37573</th>\n",
       "      <td>bless</td>\n",
       "      <td>bendisyunan</td>\n",
       "      <td>Ivatan_Ichbayatan</td>\n",
       "    </tr>\n",
       "    <tr>\n",
       "      <th>37574</th>\n",
       "      <td>bless</td>\n",
       "      <td>minamo</td>\n",
       "      <td>Ivatan_Ichbayatan</td>\n",
       "    </tr>\n",
       "    <tr>\n",
       "      <th>37575</th>\n",
       "      <td>redeem</td>\n",
       "      <td>tubusun</td>\n",
       "      <td>Ivatan_Ichbayatan</td>\n",
       "    </tr>\n",
       "    <tr>\n",
       "      <th>37576</th>\n",
       "      <td>curse</td>\n",
       "      <td>avayen</td>\n",
       "      <td>Ivatan_Ichbayatan</td>\n",
       "    </tr>\n",
       "    <tr>\n",
       "      <th>37577</th>\n",
       "      <td>sorcerer, witch</td>\n",
       "      <td>manurib</td>\n",
       "      <td>Ivatan_Ichbayatan</td>\n",
       "    </tr>\n",
       "  </tbody>\n",
       "</table>\n",
       "<p>1287 rows × 3 columns</p>\n",
       "</div>"
      ],
      "text/plain": [
       "                 Concept         Word           Language\n",
       "36291              world        mundo  Ivatan_Ichbayatan\n",
       "36292              earth        mundo  Ivatan_Ichbayatan\n",
       "36293  land, earth, soil         tana  Ivatan_Ichbayatan\n",
       "36294  land, earth, soil         xuta  Ivatan_Ichbayatan\n",
       "36295   dust, fine earth       kexbek  Ivatan_Ichbayatan\n",
       "...                  ...          ...                ...\n",
       "37573              bless  bendisyunan  Ivatan_Ichbayatan\n",
       "37574              bless       minamo  Ivatan_Ichbayatan\n",
       "37575             redeem      tubusun  Ivatan_Ichbayatan\n",
       "37576              curse       avayen  Ivatan_Ichbayatan\n",
       "37577    sorcerer, witch      manurib  Ivatan_Ichbayatan\n",
       "\n",
       "[1287 rows x 3 columns]"
      ]
     },
     "execution_count": 172,
     "metadata": {},
     "output_type": "execute_result"
    }
   ],
   "source": [
    "joined_data.loc[joined_data[\"Language\"]=='Ivatan_Ichbayatan']"
   ]
  },
  {
   "cell_type": "code",
   "execution_count": 173,
   "id": "6d2e63f8-dd4a-4590-a4f1-987a7d79c3da",
   "metadata": {},
   "outputs": [
    {
     "data": {
      "text/plain": [
       "Concept\n",
       "escort, bring s.o somewhere                                 5\n",
       "finish (off),complete                                       5\n",
       "share,distribute                                            5\n",
       "sieve,strainer                                              5\n",
       "rice, burntlower crust                                      5\n",
       "earlier,recently                                            5\n",
       "cold,influenza                                              5\n",
       "live, bealive, living                                       5\n",
       "placenta,afterbirth                                         5\n",
       "later, in awhile                                            5\n",
       "dibble stick (pointed tool for making holes in planting)    5\n",
       "insane,mentally ill                                         5\n",
       "they say, itis said                                         5\n",
       "carve                                                       5\n",
       "when                                                        5\n",
       "intensifier , very                                          5\n",
       "blink one’s eyes                                            5\n",
       "ampit                                                       5\n",
       "do what ?                                                   5\n",
       "don’t know, i do not know                                   5\n",
       "don’t!, do not!                                             5\n",
       "close one'seyes                                             5\n",
       "suck,breastfeed                                             5\n",
       "firstbornchild                                              5\n",
       "blink one'seyes                                             5\n",
       "wall (from palm midribs)                                    5\n",
       "chase out, scare in a certain direction                     5\n",
       "man’s sister                                                5\n",
       "woman’s brother                                             5\n",
       "bean, legume                                                5\n",
       "roof rafter (lengthwise)                                    5\n",
       "Name: count, dtype: int64"
      ]
     },
     "execution_count": 173,
     "metadata": {},
     "output_type": "execute_result"
    }
   ],
   "source": [
    "concept_counts = joined_data[\"Concept\"].value_counts()\n",
    "language_counts = joined_data[\"Language\"].value_counts()\n",
    "concept_counts[concept_counts==5]"
   ]
  },
  {
   "cell_type": "code",
   "execution_count": 174,
   "id": "a0dfceda-af2b-446a-ae34-264f5d82690f",
   "metadata": {},
   "outputs": [
    {
     "data": {
      "image/png": "[encoded data removed]",
      "text/plain": [
       "<Figure size 800x500 with 1 Axes>"
      ]
     },
     "metadata": {},
     "output_type": "display_data"
    }
   ],
   "source": [
    "import seaborn as sns\n",
    "import matplotlib.pyplot as plt\n",
    "\n",
    "plt.figure(figsize=(8, 5))\n",
    "sns.histplot(concept_counts, bins=range(concept_counts.min(), concept_counts.max() + 2), kde=False, edgecolor='black')\n",
    "plt.xlabel('Number of Languages per concept')\n",
    "plt.ylabel('Frequency')\n",
    "plt.title('Histogram of Languages per concept')\n",
    "plt.show()"
   ]
  },
  {
   "cell_type": "code",
   "execution_count": 175,
   "id": "da59adf3-ba32-4936-b894-fdc725d561fa",
   "metadata": {},
   "outputs": [
    {
     "data": {
      "image/png": "[encoded data removed]",
      "text/plain": [
       "<Figure size 800x500 with 1 Axes>"
      ]
     },
     "metadata": {},
     "output_type": "display_data"
    }
   ],
   "source": [
    "import seaborn as sns\n",
    "import matplotlib.pyplot as plt\n",
    "\n",
    "plt.figure(figsize=(8, 5))\n",
    "sns.histplot(language_counts, bins=20, kde=True, edgecolor='black')\n",
    "plt.xlabel('Number of Concepts per Language')\n",
    "plt.ylabel('Frequency')\n",
    "plt.title('Histogram of Concepts per Language')\n",
    "plt.show()"
   ]
  },
  {
   "cell_type": "markdown",
   "id": "d0f9d592-f3bd-49f7-ac35-1fb1d5c0d09e",
   "metadata": {},
   "source": [
    "This is how we can convert the joined data in \"thin\" format to \"wide\" format. Note we have to remove duplicates to do so."
   ]
  },
  {
   "cell_type": "code",
   "execution_count": 176,
   "id": "b1acb5ef-7f0f-4f71-b9de-973b1f25b7aa",
   "metadata": {},
   "outputs": [],
   "source": [
    "## joined_data_deduped = joined_data.copy().drop_duplicates(['Concept','Language'])\n",
    "## pivoted_data = joined_data_deduped.pivot(index='Concept', columns='Language', values='Word')"
   ]
  },
  {
   "cell_type": "code",
   "execution_count": 177,
   "id": "f8b23700-e8c9-493a-b6f4-212da30ca44a",
   "metadata": {},
   "outputs": [],
   "source": [
    "##pivoted_data.head()"
   ]
  },
  {
   "cell_type": "code",
   "execution_count": 178,
   "id": "70d4712c-9148-4acb-9817-2726198f9988",
   "metadata": {},
   "outputs": [
    {
     "name": "stdout",
     "output_type": "stream",
     "text": [
      "['English', 'Indonesian', 'Abui_Mobyetang', 'Semantic Sphere']\n",
      "['English', 'Indonesian', 'IPA', 'Mawesdai', 'Semantic field']\n",
      "['English', 'Tagalog', 'Ivatan_Isabtangen', 'IPA']\n"
     ]
    }
   ],
   "source": [
    "print(colnames[\"Abui Mobyetang\"])\n",
    "print(colnames[\"Mawesdai\"])\n",
    "print(colnames[\"Ivatan Isabtangan\"])"
   ]
  },
  {
   "cell_type": "markdown",
   "id": "0aabc13d-9084-41b0-a0a6-fe15d6b9d1f5",
   "metadata": {},
   "source": [
    "## Extracting information about columns\n",
    "\n",
    "This is a tricky bit! Lets look at what the columns look like:"
   ]
  },
  {
   "cell_type": "markdown",
   "id": "b4690a98-8498-4bb8-8f6a-945bbc9b4811",
   "metadata": {},
   "source": [
    "We see that English is often here, IPA appears in both our choices. The target language appears too, and 'Semantic something' with no consistency.\n",
    "\n",
    "We will now count everything to see what broader patterns there are. This is done by making a list of all of the values that we see:"
   ]
  },
  {
   "cell_type": "code",
   "execution_count": 179,
   "id": "80af73e0-6aa2-4926-aee3-64a9753272b8",
   "metadata": {},
   "outputs": [],
   "source": [
    "values_as_list = []\n",
    "for sublist in colnames.values():\n",
    "    values_as_list.extend(sublist)"
   ]
  },
  {
   "cell_type": "code",
   "execution_count": 180,
   "id": "d4b9c031-799e-4524-ad13-acf7cca79858",
   "metadata": {},
   "outputs": [],
   "source": [
    "## If we just want the unique values we can use the python function 'set' which gets rid of duplicates for us.\n",
    "unique_cols=list(set(values_as_list))"
   ]
  },
  {
   "cell_type": "markdown",
   "id": "7506bfe3-1a3d-47c8-91fd-44b3f218c4b8",
   "metadata": {},
   "source": [
    "We will now count the number of occurances of each column."
   ]
  },
  {
   "cell_type": "code",
   "execution_count": 181,
   "id": "61e08207-d95a-499c-a7c1-2fce8fc4f262",
   "metadata": {},
   "outputs": [],
   "source": [
    "from collections import Counter\n",
    "# Create a Counter object to count occurrences\n",
    "counter_obj = Counter(values_as_list)"
   ]
  },
  {
   "cell_type": "markdown",
   "id": "22dece9f-1da0-4423-8660-92e33493b680",
   "metadata": {},
   "source": [
    "We expect that each studied language will appear exactly once, whilst IPA and English would ideally be present in every case. Indonesian should be there for every Indonesian language, and we would also expect semantic field information too."
   ]
  },
  {
   "cell_type": "code",
   "execution_count": 182,
   "id": "08064c42-7901-49e6-a664-49abf526ec42",
   "metadata": {},
   "outputs": [
    {
     "name": "stdout",
     "output_type": "stream",
     "text": [
      "English: 68\n",
      "Indonesian: 36\n",
      "IPA: 9\n",
      "Semantic Sphere: 4\n",
      "ENGLISH ELICITATION NOTES: 7\n",
      "Tagalog: 51\n",
      "CEBUANO: 5\n",
      "Kamayo: 2\n",
      "Talaandig: 2\n",
      "Semantic_Field: 23\n",
      "English elicitation notes: 20\n",
      "Indonesian elicitation notes: 16\n",
      "Cebuano: 14\n",
      "Tagalog Elicitation Notes: 3\n",
      "Ontology: 3\n",
      "Ilocano: 11\n",
      "Local Orthography: 3\n",
      "Hiligaynon: 2\n",
      "NO.: 2\n",
      "Kelon: 2\n",
      "Sangil: 2\n"
     ]
    }
   ],
   "source": [
    "# This is a nice way to present the counts.\n",
    "for item, count in counter_obj.items():\n",
    "    if count > 1:\n",
    "        print(f\"{item}: {count}\")"
   ]
  },
  {
   "cell_type": "markdown",
   "id": "50a54751-2a26-45c5-9f74-64ac582e6938",
   "metadata": {},
   "source": [
    "This implies we need to tidy up. Several minor languages appear wtwoce, and we have incomplete IPA and Semantic_Field information. We should however be able to join on the 'English' field."
   ]
  },
  {
   "cell_type": "markdown",
   "id": "5f2718cd-50de-488a-932d-adadb9eda1f4",
   "metadata": {},
   "source": [
    "## Ending: tidying up\n",
    "\n",
    "There are lots of possible problems with the data."
   ]
  },
  {
   "cell_type": "code",
   "execution_count": 183,
   "id": "5aa7ea2e-45eb-484a-ba36-d1e5161949a6",
   "metadata": {},
   "outputs": [],
   "source": [
    "def split_and_join_column(df,splitcol,s='[~]',strip=True):\n",
    "    ## Split a dataframe column into multiple rows\n",
    "    ## Specified in the format required by pandas.Series.str.split\n",
    "    ## and optionally remove any created whitespace\n",
    "    df[splitcol] = df[splitcol].str.split(s)\n",
    "    df = df.explode(splitcol).reset_index(drop=True)\n",
    "    cols = list(df.columns)\n",
    "    df = df[cols]\n",
    "    if strip:\n",
    "        df[splitcol]=df[splitcol].str.strip()\n",
    "    return df"
   ]
  },
  {
   "cell_type": "code",
   "execution_count": 184,
   "id": "c1035180-11c7-4dbe-85bc-490c2d81f118",
   "metadata": {},
   "outputs": [],
   "source": [
    "def split_dataframe_by_regexp(df,col,regexp,regex=True):\n",
    "    # Create a boolean mask for rows with quotes\n",
    "    has_match = df[col].str.contains(regexp, regex=regex)\n",
    "    # Separate into two DataFrames\n",
    "    df_clean = df[~has_match].copy()     # rows without quotes\n",
    "    df_concerns = df[has_match].copy()   # rows with quotes\n",
    "\n",
    "    # Optional: report count\n",
    "    print(f\"Retaining {len(df_clean)} of {len(df)} rows.\")\n",
    "    return df_clean,df_concerns"
   ]
  },
  {
   "cell_type": "code",
   "execution_count": 185,
   "id": "ebc81964-94ec-4e2b-b68f-80adf2e0524f",
   "metadata": {},
   "outputs": [],
   "source": [
    "joined_data_good=joined_data.copy()"
   ]
  },
  {
   "cell_type": "code",
   "execution_count": 186,
   "id": "f9557a6c-c95f-458e-a73b-2b176d2b8e73",
   "metadata": {},
   "outputs": [
    {
     "name": "stdout",
     "output_type": "stream",
     "text": [
      "Retaining 70081 of 70249 rows.\n",
      "Retaining 70130 of 70298 rows.\n"
     ]
    }
   ],
   "source": [
    "test_good, test_bad = split_dataframe_by_regexp(joined_data_good,'Word','/',regex=False)\n",
    "joined_data_good = split_and_join_column(joined_data_good,'Word','[~]')\n",
    "test_good, test_bad = split_dataframe_by_regexp(joined_data_good,'Word','/',regex=False)"
   ]
  },
  {
   "cell_type": "code",
   "execution_count": 187,
   "id": "6f9dbe3d-7071-439e-bc96-ecd93705cac7",
   "metadata": {},
   "outputs": [
    {
     "name": "stdout",
     "output_type": "stream",
     "text": [
      "Retaining 70130 of 70298 rows.\n",
      "Retaining 70474 of 70474 rows.\n"
     ]
    }
   ],
   "source": [
    "test_good, test_bad = split_dataframe_by_regexp(joined_data_good,'Word','/',regex=False)\n",
    "joined_data_good = split_and_join_column(joined_data_good,'Word','[/]')\n",
    "test_good, test_bad = split_dataframe_by_regexp(joined_data_good,'Word','/',regex=False)"
   ]
  },
  {
   "cell_type": "code",
   "execution_count": 188,
   "id": "b21b2617-7a1b-4ca9-8483-91e5eb4f7938",
   "metadata": {},
   "outputs": [
    {
     "name": "stdout",
     "output_type": "stream",
     "text": [
      "Retaining 70474 of 70474 rows.\n",
      "Empty DataFrame\n",
      "Columns: [Concept, Word, Language]\n",
      "Index: []\n"
     ]
    }
   ],
   "source": [
    "joined_data_good, joined_data_bad = split_dataframe_by_regexp(joined_data_good,'Word',r\"[\\\"]\")\n",
    "print(joined_data_bad)"
   ]
  },
  {
   "cell_type": "code",
   "execution_count": 189,
   "id": "aa8ba929-0c58-4737-82f4-301e4e0653eb",
   "metadata": {},
   "outputs": [
    {
     "name": "stdout",
     "output_type": "stream",
     "text": [
      "Retaining 70474 of 70474 rows.\n",
      "Empty DataFrame\n",
      "Columns: [Concept, Word, Language]\n",
      "Index: []\n"
     ]
    }
   ],
   "source": [
    "joined_data_good, joined_data_bad2 = split_dataframe_by_regexp(joined_data_good,'Word',\"\\t\",regex=False)\n",
    "print(joined_data_bad)"
   ]
  },
  {
   "cell_type": "code",
   "execution_count": 190,
   "id": "4769e42d-d4b8-4763-b008-ba48d6f08eca",
   "metadata": {},
   "outputs": [
    {
     "name": "stdout",
     "output_type": "stream",
     "text": [
      "Retaining 70324 of 70474 rows.\n",
      "Retaining 70474 of 70474 rows.\n"
     ]
    }
   ],
   "source": [
    "test_good, test_bad = split_dataframe_by_regexp(joined_data_good,'Concept','/',regex=False)\n",
    "joined_data_good['Concept'] = joined_data_good['Concept'].str.replace('/',';')\n",
    "test_good, test_bad = split_dataframe_by_regexp(joined_data_good,'Concept','/',regex=False)"
   ]
  },
  {
   "cell_type": "code",
   "execution_count": 191,
   "id": "16f89b75-7804-4177-8041-609181e4efd0",
   "metadata": {},
   "outputs": [
    {
     "name": "stdout",
     "output_type": "stream",
     "text": [
      "Retaining 70474 of 70474 rows.\n",
      "Retaining 70474 of 70474 rows.\n"
     ]
    }
   ],
   "source": [
    "test_good, test_bad = split_dataframe_by_regexp(joined_data_good,'Concept','/',regex=False)\n",
    "joined_data_good['Concept'] = joined_data_good['Concept'].str.replace('_x000D_',' ')\n",
    "test_good, test_bad = split_dataframe_by_regexp(joined_data_good,'Concept','/',regex=False)"
   ]
  },
  {
   "cell_type": "code",
   "execution_count": 192,
   "id": "b30fea30-4c25-489a-abae-0e79da2bc9bd",
   "metadata": {},
   "outputs": [
    {
     "data": {
      "text/html": [
       "<div>\n",
       "<style scoped>\n",
       "    .dataframe tbody tr th:only-of-type {\n",
       "        vertical-align: middle;\n",
       "    }\n",
       "\n",
       "    .dataframe tbody tr th {\n",
       "        vertical-align: top;\n",
       "    }\n",
       "\n",
       "    .dataframe thead th {\n",
       "        text-align: right;\n",
       "    }\n",
       "</style>\n",
       "<table border=\"1\" class=\"dataframe\">\n",
       "  <thead>\n",
       "    <tr style=\"text-align: right;\">\n",
       "      <th></th>\n",
       "      <th>Concept</th>\n",
       "      <th>Word</th>\n",
       "      <th>Language</th>\n",
       "    </tr>\n",
       "  </thead>\n",
       "  <tbody>\n",
       "    <tr>\n",
       "      <th>6583</th>\n",
       "      <td>if</td>\n",
       "      <td>kung</td>\n",
       "      <td>Akeanon</td>\n",
       "    </tr>\n",
       "    <tr>\n",
       "      <th>6584</th>\n",
       "      <td>or ; either_x000d_\\n... or</td>\n",
       "      <td>o</td>\n",
       "      <td>Akeanon</td>\n",
       "    </tr>\n",
       "    <tr>\n",
       "      <th>6585</th>\n",
       "      <td>still, yet</td>\n",
       "      <td>Sa gihapon</td>\n",
       "      <td>Akeanon</td>\n",
       "    </tr>\n",
       "  </tbody>\n",
       "</table>\n",
       "</div>"
      ],
      "text/plain": [
       "                         Concept        Word Language\n",
       "6583                          if        kung  Akeanon\n",
       "6584  or ; either_x000d_\\n... or           o  Akeanon\n",
       "6585                  still, yet  Sa gihapon  Akeanon"
      ]
     },
     "execution_count": 192,
     "metadata": {},
     "output_type": "execute_result"
    }
   ],
   "source": [
    "joined_data_good.loc[6583:6585,:]"
   ]
  },
  {
   "cell_type": "code",
   "execution_count": 193,
   "id": "b889a31f-a435-438e-91da-711e10fc3ee9",
   "metadata": {},
   "outputs": [],
   "source": [
    "#joined_data_good['Concept']=[x.replace('ė', 'e') for x in joined_data_good['Concept']] # Doesn't match\n"
   ]
  },
  {
   "cell_type": "markdown",
   "id": "aaae0a7c-cdd2-4210-a0cb-16fb0d259fad",
   "metadata": {},
   "source": [
    "### Saving the data\n",
    "\n",
    "Finally, we'll save the most useful of these spreadsheets as new excel files."
   ]
  },
  {
   "cell_type": "code",
   "execution_count": 194,
   "id": "375c3e14-e9de-4311-ae86-791f3891719b",
   "metadata": {},
   "outputs": [
    {
     "name": "stderr",
     "output_type": "stream",
     "text": [
      "/var/folders/sd/6b6ndf8s69l3glyl3t0xl7zr0000gq/T/ipykernel_28458/2012373909.py:2: FutureWarning: Downcasting behavior in `replace` is deprecated and will be removed in a future version. To retain the old behavior, explicitly call `result.infer_objects(copy=False)`. To opt-in to the future behavior, set `pd.set_option('future.no_silent_downcasting', True)`\n",
      "  englishsheet.replace({True: 'TRUE', False: 'FALSE'}).to_excel(\"OCSEAN_initial_englishsheet.xlsx\")\n"
     ]
    }
   ],
   "source": [
    "## Annoyingly the 'to_excel' function doesn't handle True/False very well, so we'll make a duplicate that contains strings and save those.\n",
    "englishsheet.replace({True: 'TRUE', False: 'FALSE'}).to_excel(\"OCSEAN_initial_englishsheet.xlsx\")  \n",
    "collectionsheet.replace({True: 'TRUE', False: 'FALSE'}).to_excel(\"OCSEAN_initial_collectionsheet.xlsx\")"
   ]
  },
  {
   "cell_type": "code",
   "execution_count": 195,
   "id": "6553a9f3-ac8d-4872-8677-fd77df5b358e",
   "metadata": {},
   "outputs": [],
   "source": [
    "ocseandata=joined_data_good.rename(columns={\"Concept\": \"concept\", \"Word\": \"form\",\"Language\": \"doculect\"}, errors=\"raise\")\n",
    "ocseandata[\"ID\"]=ocseandata.index\n",
    "ocseandata.head()\n",
    "ocseandata.to_excel(\"OCSEAN_initial_joineddata.xlsx\")\n",
    "ocseandata.to_csv('OCSEAN_initial_joineddata.tsv',sep='\\t')"
   ]
  },
  {
   "cell_type": "code",
   "execution_count": 196,
   "id": "c3496456-c814-4101-979d-923141869818",
   "metadata": {},
   "outputs": [],
   "source": [
    "##pivoted_data.to_excel(\"OCSEAN_initial_joineddata_pivoted_derived.xlsx\")"
   ]
  },
  {
   "cell_type": "code",
   "execution_count": 197,
   "id": "ef286b23-ea74-490e-86f3-adc7153aea78",
   "metadata": {},
   "outputs": [
    {
     "data": {
      "text/html": [
       "<div>\n",
       "<style scoped>\n",
       "    .dataframe tbody tr th:only-of-type {\n",
       "        vertical-align: middle;\n",
       "    }\n",
       "\n",
       "    .dataframe tbody tr th {\n",
       "        vertical-align: top;\n",
       "    }\n",
       "\n",
       "    .dataframe thead th {\n",
       "        text-align: right;\n",
       "    }\n",
       "</style>\n",
       "<table border=\"1\" class=\"dataframe\">\n",
       "  <thead>\n",
       "    <tr style=\"text-align: right;\">\n",
       "      <th></th>\n",
       "      <th>concept</th>\n",
       "      <th>form</th>\n",
       "      <th>doculect</th>\n",
       "      <th>ID</th>\n",
       "    </tr>\n",
       "  </thead>\n",
       "  <tbody>\n",
       "    <tr>\n",
       "      <th>37171</th>\n",
       "      <td>pay</td>\n",
       "      <td>paga</td>\n",
       "      <td>Ivatan_Ichbayatan</td>\n",
       "      <td>37171</td>\n",
       "    </tr>\n",
       "    <tr>\n",
       "      <th>37172</th>\n",
       "      <td>pay</td>\n",
       "      <td>mamaga</td>\n",
       "      <td>Ivatan_Ichbayatan</td>\n",
       "      <td>37172</td>\n",
       "    </tr>\n",
       "  </tbody>\n",
       "</table>\n",
       "</div>"
      ],
      "text/plain": [
       "      concept    form           doculect     ID\n",
       "37171     pay    paga  Ivatan_Ichbayatan  37171\n",
       "37172     pay  mamaga  Ivatan_Ichbayatan  37172"
      ]
     },
     "execution_count": 197,
     "metadata": {},
     "output_type": "execute_result"
    }
   ],
   "source": [
    "testdata=ocseandata.loc[ocseandata['doculect']==\"Ivatan_Ichbayatan\"].copy()\n",
    "testdata.loc[testdata['concept']==\"pay\"]"
   ]
  },
  {
   "cell_type": "code",
   "execution_count": null,
   "id": "837a1679-2c96-491b-bab1-fdac33a57ea8",
   "metadata": {},
   "outputs": [],
   "source": []
  }
 ],
 "metadata": {
  "kernelspec": {
   "display_name": "Python 3 (ipykernel)",
   "language": "python",
   "name": "python3"
  },
  "language_info": {
   "codemirror_mode": {
    "name": "ipython",
    "version": 3
   },
   "file_extension": ".py",
   "mimetype": "text/x-python",
   "name": "python",
   "nbconvert_exporter": "python",
   "pygments_lexer": "ipython3",
   "version": "3.12.7"
  }
 },
 "nbformat": 4,
 "nbformat_minor": 5
}
